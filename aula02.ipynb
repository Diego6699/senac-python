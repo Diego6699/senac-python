{
  "nbformat": 4,
  "nbformat_minor": 0,
  "metadata": {
    "colab": {
      "provenance": [],
      "collapsed_sections": [],
      "authorship_tag": "ABX9TyM+Pau5hmTR/whabSYClf84",
      "include_colab_link": true
    },
    "kernelspec": {
      "name": "python3",
      "display_name": "Python 3"
    },
    "language_info": {
      "name": "python"
    }
  },
  "cells": [
    {
      "cell_type": "markdown",
      "metadata": {
        "id": "view-in-github",
        "colab_type": "text"
      },
      "source": [
        "<a href=\"https://colab.research.google.com/github/Diego6699/senac-python/blob/main/aula02.ipynb\" target=\"_parent\"><img src=\"https://colab.research.google.com/assets/colab-badge.svg\" alt=\"Open In Colab\"/></a>"
      ]
    },
    {
      "cell_type": "markdown",
      "source": [
        "Recapitulando ..."
      ],
      "metadata": {
        "id": "vhwImlPdIO4G"
      }
    },
    {
      "cell_type": "code",
      "execution_count": 1,
      "metadata": {
        "colab": {
          "base_uri": "https://localhost:8080/"
        },
        "id": "MkYGgUgHH04X",
        "outputId": "f710f667-8bec-47d8-f7f2-eae9df03c15a"
      },
      "outputs": [
        {
          "output_type": "stream",
          "name": "stdout",
          "text": [
            "Digite um numero inteiro: 1\n",
            "Digite outro numero interiro: 2\n",
            "False\n",
            "True\n",
            "False\n",
            "False\n",
            "True\n",
            "True\n"
          ]
        }
      ],
      "source": [
        "valor1 = input('Digite um numero inteiro: ')\n",
        "valor2 = input('Digite outro numero interiro: ')\n",
        "print(valor1 == valor2)\n",
        "print(valor1 < valor2)\n",
        "print(valor1 > valor2)\n",
        "print(valor1 >= valor2)\n",
        "print(valor1 <= valor2)\n",
        "print(valor1 != valor2)"
      ]
    },
    {
      "cell_type": "markdown",
      "source": [
        "Conectivos\n",
        "And\n",
        "or\n"
      ],
      "metadata": {
        "id": "gsBtjj9NI6KF"
      }
    },
    {
      "cell_type": "code",
      "source": [
        "#a)\n",
        "10 > 18 and 3 > 2"
      ],
      "metadata": {
        "colab": {
          "base_uri": "https://localhost:8080/"
        },
        "id": "UTPYiEnJJEQl",
        "outputId": "a1f12e5c-2ec4-4e79-b650-14548237321a"
      },
      "execution_count": 2,
      "outputs": [
        {
          "output_type": "execute_result",
          "data": {
            "text/plain": [
              "False"
            ]
          },
          "metadata": {},
          "execution_count": 2
        }
      ]
    },
    {
      "cell_type": "code",
      "source": [
        "#b)\n",
        "20 > 18 or 3 > 4"
      ],
      "metadata": {
        "colab": {
          "base_uri": "https://localhost:8080/"
        },
        "id": "RSoUZm3dJGyl",
        "outputId": "0742b995-d53f-4b80-ef39-c53a53d51d70"
      },
      "execution_count": 3,
      "outputs": [
        {
          "output_type": "execute_result",
          "data": {
            "text/plain": [
              "True"
            ]
          },
          "metadata": {},
          "execution_count": 3
        }
      ]
    },
    {
      "cell_type": "code",
      "source": [
        "#c)\n",
        "1 > 2 and 2 > 3 or 1 > 0"
      ],
      "metadata": {
        "colab": {
          "base_uri": "https://localhost:8080/"
        },
        "id": "-AuttJeSJIF2",
        "outputId": "365c421f-1a68-4d8e-d0a7-69a66061ad7e"
      },
      "execution_count": 4,
      "outputs": [
        {
          "output_type": "execute_result",
          "data": {
            "text/plain": [
              "True"
            ]
          },
          "metadata": {},
          "execution_count": 4
        }
      ]
    },
    {
      "cell_type": "code",
      "source": [
        "#d)\n",
        "(1 > 2) and ((2 > 3) or (1 > 0))"
      ],
      "metadata": {
        "colab": {
          "base_uri": "https://localhost:8080/"
        },
        "id": "JrQ50xq4JI99",
        "outputId": "edf46c67-7e8c-4771-e301-a8e4a88764e1"
      },
      "execution_count": 5,
      "outputs": [
        {
          "output_type": "execute_result",
          "data": {
            "text/plain": [
              "False"
            ]
          },
          "metadata": {},
          "execution_count": 5
        }
      ]
    },
    {
      "cell_type": "markdown",
      "source": [
        "Conectivo E (and)"
      ],
      "metadata": {
        "id": "v_jBNb5eJb85"
      }
    },
    {
      "cell_type": "code",
      "source": [
        "numero = 10\n",
        "print(numero > 0 and numero < 10)"
      ],
      "metadata": {
        "colab": {
          "base_uri": "https://localhost:8080/"
        },
        "id": "SMKQl15rJfg-",
        "outputId": "b5a1e73c-a88c-4f00-ee26-91049fe9deeb"
      },
      "execution_count": 6,
      "outputs": [
        {
          "output_type": "stream",
          "name": "stdout",
          "text": [
            "False\n"
          ]
        }
      ]
    },
    {
      "cell_type": "markdown",
      "source": [
        "Conectivo ou (or)"
      ],
      "metadata": {
        "id": "qOvOOO-3JqTV"
      }
    },
    {
      "cell_type": "code",
      "source": [
        "numero = 10\n",
        "print(numero > 0 or numero < 10)"
      ],
      "metadata": {
        "colab": {
          "base_uri": "https://localhost:8080/"
        },
        "outputId": "b5a1e73c-a88c-4f00-ee26-91049fe9deeb",
        "id": "i41cQu2lJv4M"
      },
      "execution_count": null,
      "outputs": [
        {
          "output_type": "stream",
          "name": "stdout",
          "text": [
            "False\n"
          ]
        }
      ]
    },
    {
      "cell_type": "markdown",
      "source": [
        "Condicional , se e senao (if , elif , else)"
      ],
      "metadata": {
        "id": "Zl23Z7NtJ17G"
      }
    },
    {
      "cell_type": "markdown",
      "source": [
        "Desafio "
      ],
      "metadata": {
        "id": "rCQJ9ZChKAHl"
      }
    },
    {
      "cell_type": "code",
      "source": [
        "numero = int(input('numero: '))\n",
        "if numero % 2 == 0:\n",
        "  print(f'{numero} é par')\n",
        "else:\n",
        "  print('{numero} é impar: ')\n"
      ],
      "metadata": {
        "colab": {
          "base_uri": "https://localhost:8080/"
        },
        "id": "Jz9_pUR0KBSt",
        "outputId": "3ea168ca-e363-4dfe-fe76-f0354693a976"
      },
      "execution_count": 8,
      "outputs": [
        {
          "output_type": "stream",
          "name": "stdout",
          "text": [
            "numero: 12\n",
            "12 é par\n"
          ]
        }
      ]
    },
    {
      "cell_type": "markdown",
      "source": [
        "condiconal  else || **Boa pratica usar ( ) no if,elfi**"
      ],
      "metadata": {
        "id": "t-pbr78nK5Q1"
      }
    },
    {
      "cell_type": "code",
      "source": [
        "cupom = input('seu cumporm: ')\n",
        "if(cupom == 'aula1' or cupom == 'aula2')\n",
        "print('você ganhou 10% de desconto')\n",
        "else:\n",
        "  print('Cupom inválido')"
      ],
      "metadata": {
        "id": "8Go7ylrlLJaa"
      },
      "execution_count": null,
      "outputs": []
    },
    {
      "cell_type": "markdown",
      "source": [
        "Desafio"
      ],
      "metadata": {
        "id": "h9Ll37yRLuQs"
      }
    },
    {
      "cell_type": "code",
      "source": [
        "cupom = input('seu cupom: ')\n",
        "if(cupom == 'aula1'):\n",
        "  print('você ganhou 15% de desconto')\n",
        "elif(cupom == 'aula2'):\n",
        "  print('você ganhou 5% de desconto')\n",
        "else:\n",
        "  print('você ganhou 5% de desconto')"
      ],
      "metadata": {
        "colab": {
          "base_uri": "https://localhost:8080/"
        },
        "id": "t7YO45leLv-N",
        "outputId": "96087e4a-6f82-4e10-8010-d0b50aaa99d3"
      },
      "execution_count": 9,
      "outputs": [
        {
          "output_type": "stream",
          "name": "stdout",
          "text": [
            "seu cupom: aula10\n",
            "você ganhou 5% de desconto\n"
          ]
        }
      ]
    },
    {
      "cell_type": "code",
      "source": [
        "#desafio 2\n",
        "dinheiro = input('Tem dinheiro: ')\n",
        "tempo = input('Tem sol: ')\n",
        "if not dinheiro.isdigit() and 'sim' in dinheiro and 'sim' in  tempo:\n",
        "  print('Vamos à praia')\n",
        "else:\n",
        "  print('Vamos assistir netflix')"
      ],
      "metadata": {
        "colab": {
          "base_uri": "https://localhost:8080/"
        },
        "id": "132C1ZAHWK2w",
        "outputId": "297c0f59-10d0-449e-9aa8-108d53791de5"
      },
      "execution_count": 12,
      "outputs": [
        {
          "output_type": "stream",
          "name": "stdout",
          "text": [
            "Tem dinheiro: sim tenho dinheiro\n",
            "Tem sol: sim ,tem sol\n",
            "Vamos à praia\n"
          ]
        }
      ]
    },
    {
      "cell_type": "code",
      "source": [
        "#desafio 3\n",
        "dinheiro = input('Tem dinheiro: ')\n",
        "tempo = input('Tem sol: ')\n",
        "if (not dinheiro.isdigit() and 'sim' in dinheiro):\n",
        "  if('sim' in tempo):\n",
        "    print('Vamos à praia')\n",
        "  else:\n",
        "    print('Vá ligar o ventilador')\n",
        "else:\n",
        "  print('Vamos assistir netflix')\n",
        "\n"
      ],
      "metadata": {
        "colab": {
          "base_uri": "https://localhost:8080/"
        },
        "id": "iInD_-qsWMl3",
        "outputId": "865b1208-622c-4877-9678-0f511b06fc42"
      },
      "execution_count": 14,
      "outputs": [
        {
          "output_type": "stream",
          "name": "stdout",
          "text": [
            "Tem dinheiro: sim\n",
            "Tem sol: n\n",
            "Vá ligar o ventilador\n"
          ]
        }
      ]
    },
    {
      "cell_type": "markdown",
      "source": [
        "Pratica"
      ],
      "metadata": {
        "id": "4LCAB2g4ZDE2"
      }
    },
    {
      "cell_type": "code",
      "source": [
        "#6\n",
        "taxa = 0.0\n",
        "valorCarro = 0.0\n",
        "anoFabricacao = 0\n",
        "valorCarro = float(input('Valor do carro: '))\n",
        "anoFabricacao = int(input('Ano de Fabricacao: '))\n",
        "if(anoFabricacao <= 1999):\n",
        "  taxa = (1/100)\n",
        "  imposto = valorCarro * (taxa)\n",
        "  print(f'O imposto será: {imposto}')\n",
        "\n",
        "else:\n",
        "  taxa = (15/1000)\n",
        "  imposto = valorCarro * (taxa)\n",
        "  print(f'O imposto sera: {imposto}')\n",
        "\n"
      ],
      "metadata": {
        "colab": {
          "base_uri": "https://localhost:8080/"
        },
        "id": "QI14RkLwZEBn",
        "outputId": "b7eea2e4-6f8a-4b64-f274-ff51bc304723"
      },
      "execution_count": 28,
      "outputs": [
        {
          "output_type": "stream",
          "name": "stdout",
          "text": [
            "Valor do carro: 65750\n",
            "Ano de Fabricacao: 2011\n",
            "O imposto sera: 986.25\n"
          ]
        }
      ]
    },
    {
      "cell_type": "code",
      "source": [
        "#7\n",
        "salario = float(input('Salario: '))\n",
        "cargo =  str(input('Seu cargo: '))\n",
        "if (cargo == 'Gerente'):\n",
        "  aux = salario\n",
        "  salario  = salario + (salario * (10/100))\n",
        "  print(f'Gerente: salario antigo: {str(aux).zfill(10)}\\nSalario atual: {str(salario).zfill(10)}')\n",
        "elif (cargo == 'Engenheiro'):\n",
        "  aux = salario\n",
        "  salario  = salario + (salario * (20/100))\n",
        "  print(f'Engenheiro:\\nsalario antigo: {str(aux).zfill(10)}\\nSalario atual: {str(salario).zfill(10)}')\n",
        "elif(cargo == 'Tecnico'):\n",
        "  aux = salario\n",
        "  salario  = salario + (salario * (30/100))\n",
        "  print(f'Tecnico:\\nsalario antigo: {str(aux).zfill(10)}\\nSalario atual: {str(salario).zfill(10)}')\n",
        "else:\n",
        "  aux = salario\n",
        "  salario  = salario + (salario * (40/100))\n",
        "  print(f'Funcionário: salario antigo: {str(aux).zfill(10)}\\nSalario atual: {str(salario).zfill(10)}')\n"
      ],
      "metadata": {
        "colab": {
          "base_uri": "https://localhost:8080/"
        },
        "id": "EuzP1-CMZjEO",
        "outputId": "e08c859e-7f72-4576-ad95-9446265de46d"
      },
      "execution_count": 36,
      "outputs": [
        {
          "output_type": "stream",
          "name": "stdout",
          "text": [
            "Salario: 1367\n",
            "Seu cargo: Gerente\n",
            "Gerente: salario antigo: 00001367.0\n",
            "Salario atual: 00001503.7\n"
          ]
        }
      ]
    },
    {
      "cell_type": "code",
      "source": [
        "#8\n",
        "saldoMedio = int(input('Saldo médio: '))\n",
        "if (saldoMedio <= 200 and saldoMedio >= 0):print('nenhum credito')\n",
        "if(saldoMedio >= 201 and saldoMedio <= 400 ):print(f'Credito: {saldoMedio + saldoMedio * (20/100)}')\n",
        "if(saldoMedio >= 401 and saldoMedio <= 600 ):print(f'Credito: {saldoMedio + saldoMedio * (30/100)}')\n",
        "if(saldoMedio >=601):print(f'Credito: {saldoMedio + saldoMedio * (40/100)}')"
      ],
      "metadata": {
        "colab": {
          "base_uri": "https://localhost:8080/"
        },
        "id": "F1H0fqXvZkKm",
        "outputId": "0411189e-493b-4609-e8c3-d28a939486bc"
      },
      "execution_count": 63,
      "outputs": [
        {
          "output_type": "stream",
          "name": "stdout",
          "text": [
            "Saldo médio: 1000\n",
            "Credito: 1400.0\n"
          ]
        }
      ]
    },
    {
      "cell_type": "code",
      "source": [
        "#9\n",
        "maior = 0\n",
        "menor = 0\n",
        "for i in range(5):\n",
        "  numero = int(input(f'numero {i+1}: '))\n",
        "  if numero > maior:\n",
        "    maior = numero\n",
        "  elif(numero < menor):\n",
        "    menor = numero\n",
        "  else:\n",
        "    pass\n",
        "print(f'menor: {menor}')\n",
        "print(f'maior: {maior}')\n"
      ],
      "metadata": {
        "colab": {
          "base_uri": "https://localhost:8080/"
        },
        "id": "FohNErOeZlJu",
        "outputId": "cf5b9100-2402-4a87-d8ea-f781eae7c3ba"
      },
      "execution_count": 53,
      "outputs": [
        {
          "output_type": "stream",
          "name": "stdout",
          "text": [
            "numero 1: -1\n",
            "numero 2: 1\n",
            "numero 3: 2\n",
            "numero 4: 3\n",
            "numero 5: 4\n",
            "menor: -1\n",
            "maior: 4\n"
          ]
        }
      ]
    }
  ]
}