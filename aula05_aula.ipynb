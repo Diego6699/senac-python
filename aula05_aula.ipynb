{
  "nbformat": 4,
  "nbformat_minor": 0,
  "metadata": {
    "colab": {
      "provenance": [],
      "collapsed_sections": [],
      "authorship_tag": "ABX9TyOXWn/PxUg40gJNEB3G6lur",
      "include_colab_link": true
    },
    "kernelspec": {
      "name": "python3",
      "display_name": "Python 3"
    },
    "language_info": {
      "name": "python"
    }
  },
  "cells": [
    {
      "cell_type": "markdown",
      "metadata": {
        "id": "view-in-github",
        "colab_type": "text"
      },
      "source": [
        "<a href=\"https://colab.research.google.com/github/Diego6699/senac-python/blob/main/aula05_aula.ipynb\" target=\"_parent\"><img src=\"https://colab.research.google.com/assets/colab-badge.svg\" alt=\"Open In Colab\"/></a>"
      ]
    },
    {
      "cell_type": "markdown",
      "source": [
        "## **Diego Leonardo -- 27/09**"
      ],
      "metadata": {
        "id": "xWZTPRkN43EJ"
      }
    },
    {
      "cell_type": "markdown",
      "source": [
        "Métodos em Python"
      ],
      "metadata": {
        "id": "ay5jkUv04m3Y"
      }
    },
    {
      "cell_type": "markdown",
      "source": [
        "Breve descrição do método com help"
      ],
      "metadata": {
        "id": "u4y6Efru5TJi"
      }
    },
    {
      "cell_type": "code",
      "source": [
        "lista = []\n",
        "help(lista.append)"
      ],
      "metadata": {
        "colab": {
          "base_uri": "https://localhost:8080/"
        },
        "id": "tYs3U4i44qOQ",
        "outputId": "6d6a0a6d-cf58-426b-b989-3b37129b9ffd"
      },
      "execution_count": null,
      "outputs": [
        {
          "output_type": "stream",
          "name": "stdout",
          "text": [
            "Help on built-in function append:\n",
            "\n",
            "append(object, /) method of builtins.list instance\n",
            "    Append object to the end of the list.\n",
            "\n"
          ]
        }
      ]
    },
    {
      "cell_type": "markdown",
      "source": [
        "Lista dos os atributos do método\n"
      ],
      "metadata": {
        "id": "-_p9dnIo5N2k"
      }
    },
    {
      "cell_type": "code",
      "source": [
        "dir(list)"
      ],
      "metadata": {
        "id": "hfhLQOOd5LEA"
      },
      "execution_count": null,
      "outputs": []
    },
    {
      "cell_type": "markdown",
      "source": [
        "Funtion\n",
        "\n",
        "def nome(arg,arg1)\n",
        "\n",
        "      bloco de comandos\n",
        "\n",
        "      returno(dados de retorno)"
      ],
      "metadata": {
        "id": "Kf-3uHNI6zUx"
      }
    },
    {
      "cell_type": "markdown",
      "source": [
        "**Paradigma** **OO**"
      ],
      "metadata": {
        "id": "xd12VwNQ_E-_"
      }
    },
    {
      "cell_type": "code",
      "source": [
        "class NomeDeClass():\n",
        "  def __init__(self):\n",
        "    self.atributo1 = valor1\n",
        "    self.atributo2 = valorn\n",
        "\n",
        "  def exemploDeFuncao(self):\n",
        "    return 'Essa é uma função!'\n",
        "\n",
        "  def exemploDeMetodo(self):\n",
        "    print(\"Esse é um método\")"
      ],
      "metadata": {
        "id": "zZRtWVSV_MGB"
      },
      "execution_count": null,
      "outputs": []
    },
    {
      "cell_type": "code",
      "source": [
        "class ContaCorrente:\n",
        "  def __init__(self):\n",
        "    self.numConta = 159\n",
        "    self.nomeTitular = 'Camila'\n",
        "    self.saldo = 0\n",
        "\n",
        "  def __init__(self):\n",
        "    self.numConta = numConta\n",
        "    self.nomeTitula = nomeTitula\n",
        "\n",
        "  def __init__(self):\n",
        "    self.numConta = numConta\n",
        "    self.nomeTitular = nomeTitular\n",
        "    self.saldo = saldo"
      ],
      "metadata": {
        "id": "45iv0MBCBzSA"
      },
      "execution_count": null,
      "outputs": []
    },
    {
      "cell_type": "code",
      "source": [
        "class Lar:\n",
        "  def toctoc(self, pessoa1 = None, pessoa2 = None):\n",
        "    if pessoa1 is not None and pessoa2 is None:\n",
        "      print('Olá,' + pessoa1)\n",
        "    elif(pessoa2 is not None and pessoa2 is not None):\n",
        "      print('Olá, ' + pessoa1 + ' e '+ pessoa2)\n",
        "    else:\n",
        "      print('Quem está aí?')\n",
        "batendoNaPorta = Lar()\n",
        "\n",
        "batendoNaPorta.toctoc()\n",
        "batendoNaPorta.toctoc('Rick','Morty')\n",
        "batendoNaPorta.toctoc('Professora Amanda')"
      ],
      "metadata": {
        "colab": {
          "base_uri": "https://localhost:8080/"
        },
        "id": "esDbyT-YEHpq",
        "outputId": "dfda6314-c3df-464d-a391-ecb76a9c658d"
      },
      "execution_count": null,
      "outputs": [
        {
          "output_type": "stream",
          "name": "stdout",
          "text": [
            "Quem está aí?\n",
            "Olá, Rick e Morty\n",
            "Olá,Professora Amanda\n"
          ]
        }
      ]
    },
    {
      "cell_type": "code",
      "source": [
        "#Criando um classe\n",
        "class Animal():\n",
        "  def __init__(self,name,weight,color):\n",
        "    #atributos\n",
        "    self.nome = name\n",
        "    self.peso = weight\n",
        "    self.corDoPelo = color\n",
        "  def imprimirDados(self):\n",
        "    return (f'nome: {self.nome} Peso: {self.peso:.2f}')\n",
        "  def latir(self,barulho):\n",
        "    print(barulho)\n",
        "\n"
      ],
      "metadata": {
        "id": "9irZvw0WIL9p"
      },
      "execution_count": null,
      "outputs": []
    },
    {
      "cell_type": "code",
      "source": [
        "#Instancia um objeto cachorro\n",
        "caozinho = Animal(\"Marlene\",7.9,'Caramelo')\n",
        "gato = Animal('Cibelo',4.5,'Cinza')\n",
        "\n",
        "#chamando o método do objeto criado\n",
        "print(caozinho.imprimirDados())\n",
        "caozinho.latir('Au Au!')\n",
        "\n",
        "print(gato.imprimirDados())\n",
        "gato.latir('Miau!')"
      ],
      "metadata": {
        "colab": {
          "base_uri": "https://localhost:8080/"
        },
        "id": "U7JqSAIbK8s4",
        "outputId": "14199da8-a21d-4d1b-911e-d57246d6dea2"
      },
      "execution_count": null,
      "outputs": [
        {
          "output_type": "stream",
          "name": "stdout",
          "text": [
            "nome: Marlene Peso: 7.90\n",
            "Au Au!\n",
            "nome: Cibelo Peso: 4.50\n",
            "Miau!\n"
          ]
        }
      ]
    },
    {
      "cell_type": "code",
      "source": [
        "#criando a classe livro\n",
        "class Livro:\n",
        "  #este metodo vai inicializar um obeto\n",
        "  def __init__(self):\n",
        "    self.titulo = 'O monge e o executivo'\n",
        "    self.isbn = 9988888\n",
        "    print('Construtor chamado para criar um objeto desde classe')\n",
        "  def imprimir(self):\n",
        "    print('Foi criado o livro {0} e isn {1}'.format(self.titulo,self.isbn))"
      ],
      "metadata": {
        "id": "x1tidebCPbpA"
      },
      "execution_count": null,
      "outputs": []
    },
    {
      "cell_type": "code",
      "source": [
        "Livro1 = Livro()"
      ],
      "metadata": {
        "colab": {
          "base_uri": "https://localhost:8080/"
        },
        "id": "Ng-PEWhHR4IB",
        "outputId": "9c4383d7-4b91-4d1e-fc37-78cd818d1f4b"
      },
      "execution_count": null,
      "outputs": [
        {
          "output_type": "stream",
          "name": "stdout",
          "text": [
            "Construtor chamado para criar um objeto desde classe\n"
          ]
        }
      ]
    },
    {
      "cell_type": "code",
      "source": [
        "type(Livro1)"
      ],
      "metadata": {
        "colab": {
          "base_uri": "https://localhost:8080/"
        },
        "id": "LifH7cepR7YA",
        "outputId": "e6f47f3e-65c8-4782-a4e0-d92b5460c207"
      },
      "execution_count": null,
      "outputs": [
        {
          "output_type": "execute_result",
          "data": {
            "text/plain": [
              "__main__.Livro"
            ]
          },
          "metadata": {},
          "execution_count": 24
        }
      ]
    },
    {
      "cell_type": "code",
      "source": [
        "Livro1.titulo"
      ],
      "metadata": {
        "id": "u5Bcv_XjUPPB"
      },
      "execution_count": null,
      "outputs": []
    },
    {
      "cell_type": "code",
      "source": [
        "Livro1.imprime()"
      ],
      "metadata": {
        "id": "n575TsqkUVEJ"
      },
      "execution_count": null,
      "outputs": []
    },
    {
      "cell_type": "code",
      "source": [
        "type(Livro1)"
      ],
      "metadata": {
        "colab": {
          "base_uri": "https://localhost:8080/"
        },
        "id": "7FKUd_lXUeop",
        "outputId": "8d371e9e-6cf8-4f0f-d1b1-42c40a55f947"
      },
      "execution_count": null,
      "outputs": [
        {
          "output_type": "execute_result",
          "data": {
            "text/plain": [
              "__main__.Livro"
            ]
          },
          "metadata": {},
          "execution_count": 27
        }
      ]
    },
    {
      "cell_type": "code",
      "source": [
        "Livro2 = Livro('A menina que roubava livro', 77886611)"
      ],
      "metadata": {
        "id": "dQe2bsRoVHhZ"
      },
      "execution_count": null,
      "outputs": []
    },
    {
      "cell_type": "code",
      "source": [
        "Livro2.titulo"
      ],
      "metadata": {
        "id": "vvWD4jHCWHmh"
      },
      "execution_count": null,
      "outputs": []
    },
    {
      "cell_type": "markdown",
      "source": [
        "# Herança"
      ],
      "metadata": {
        "id": "Eimzj9N9WYDA"
      }
    },
    {
      "cell_type": "code",
      "source": [
        "class Animal:\n",
        "  def __init__(self):\n",
        "    print(\"animal criado\")\n",
        "  def Identif(self):\n",
        "    print('anima')\n",
        "  def comer(self):\n",
        "    print('Comendo')"
      ],
      "metadata": {
        "id": "GED1YrwzWbdp"
      },
      "execution_count": null,
      "outputs": []
    },
    {
      "cell_type": "code",
      "source": [
        "class Cachorro(Animal):\n",
        "  pass"
      ],
      "metadata": {
        "id": "6oNG5bxUYnx6"
      },
      "execution_count": null,
      "outputs": []
    },
    {
      "cell_type": "code",
      "source": [
        "class Mae():\n",
        "  def __init__(self, atributo1):\n",
        "    self.atributo1 = atributo1\n",
        "    print('Essa é a class mão!')"
      ],
      "metadata": {
        "id": "4ZnNsIz7ZrkZ"
      },
      "execution_count": null,
      "outputs": []
    },
    {
      "cell_type": "code",
      "source": [
        "class Filha(Mae):\n",
        "  super().__init__(atributo1)\n",
        "  self.atributo2 = atributo1\n",
        "  print('Essa é a classe herdeira')"
      ],
      "metadata": {
        "id": "okJ9kk3Ua0Dn"
      },
      "execution_count": null,
      "outputs": []
    },
    {
      "cell_type": "code",
      "source": [
        "rex = Cachorro()"
      ],
      "metadata": {
        "id": "CTJEGl07drF5"
      },
      "execution_count": null,
      "outputs": []
    },
    {
      "cell_type": "code",
      "source": [
        "rex.comer()"
      ],
      "metadata": {
        "id": "J7lGYHs8dthZ"
      },
      "execution_count": null,
      "outputs": []
    },
    {
      "cell_type": "code",
      "source": [
        "rex.latir()"
      ],
      "metadata": {
        "id": "3gnCzJlydu_R"
      },
      "execution_count": null,
      "outputs": []
    },
    {
      "cell_type": "markdown",
      "source": [
        "# Exercicio de aula - Pratica 1"
      ],
      "metadata": {
        "id": "pjYD5WdKdzOR"
      }
    },
    {
      "cell_type": "code",
      "source": [
        "class Pessoa:\n",
        "  def setIdade(self,idade):\n",
        "    self.idade = idade\n",
        "  def getNascimento(self):\n",
        "    return 2022 - self.idade\n",
        "\n",
        "diego = Pessoa()\n",
        "diego.nome = 'Diego'\n",
        "diego.idade = 22\n",
        "debora = Pessoa()\n",
        "debora.nome = 'Debora'\n",
        "debora.idade = 45\n",
        "simone = Pessoa()\n",
        "simone.nome = 'Simone'\n",
        "simone.idade = 42\n",
        "maria = Pessoa()\n",
        "maria.idade = 23\n",
        "maria.nome = 'Maria'\n",
        "renato = Pessoa()\n",
        "renato.nome = \"renato\"\n",
        "renato.idade = 52\n",
        "\n",
        "lista = [diego,debora,simone,maria,renato]\n",
        "\n",
        "for p in lista:\n",
        "  print(f'nome: {p.nome} ano de nascimento: {p.getNascimento()}')"
      ],
      "metadata": {
        "colab": {
          "base_uri": "https://localhost:8080/"
        },
        "id": "N4XFJ5jSd2ZB",
        "outputId": "71895706-7894-4bdc-b40b-131bb53c5caf"
      },
      "execution_count": null,
      "outputs": [
        {
          "output_type": "stream",
          "name": "stdout",
          "text": [
            "nome: Diego ano de nascimento: 2000\n",
            "nome: Debora ano de nascimento: 1977\n",
            "nome: Simone ano de nascimento: 1980\n",
            "nome: Maria ano de nascimento: 1999\n",
            "nome: renato ano de nascimento: 1970\n"
          ]
        }
      ]
    }
  ]
}