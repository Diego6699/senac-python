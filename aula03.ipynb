{
  "nbformat": 4,
  "nbformat_minor": 0,
  "metadata": {
    "colab": {
      "provenance": [],
      "collapsed_sections": [],
      "authorship_tag": "ABX9TyOMRCpT9pPDXjRmNCQHPcqH",
      "include_colab_link": true
    },
    "kernelspec": {
      "name": "python3",
      "display_name": "Python 3"
    },
    "language_info": {
      "name": "python"
    }
  },
  "cells": [
    {
      "cell_type": "markdown",
      "metadata": {
        "id": "view-in-github",
        "colab_type": "text"
      },
      "source": [
        "<a href=\"https://colab.research.google.com/github/Diego6699/senac-python/blob/main/aula03.ipynb\" target=\"_parent\"><img src=\"https://colab.research.google.com/assets/colab-badge.svg\" alt=\"Open In Colab\"/></a>"
      ]
    },
    {
      "cell_type": "code",
      "execution_count": null,
      "metadata": {
        "id": "Z0dsx1xEvMlS"
      },
      "outputs": [],
      "source": []
    },
    {
      "cell_type": "markdown",
      "source": [
        "Listas , turplas ,dicionarios"
      ],
      "metadata": {
        "id": "weMeZ5iTvPWE"
      }
    },
    {
      "cell_type": "code",
      "source": [
        "#lista\n",
        "l = list()\n",
        "l = []"
      ],
      "metadata": {
        "id": "h8kI3rGevUmc"
      },
      "execution_count": null,
      "outputs": []
    },
    {
      "cell_type": "code",
      "source": [
        "#Lista com 3 elementos:\n",
        "dias = [3,1,10]\n",
        "dias[0]"
      ],
      "metadata": {
        "colab": {
          "base_uri": "https://localhost:8080/"
        },
        "id": "6zFUlfwnvdF8",
        "outputId": "9db08668-0dad-4f5a-b864-3396315d6375"
      },
      "execution_count": null,
      "outputs": [
        {
          "output_type": "execute_result",
          "data": {
            "text/plain": [
              "3"
            ]
          },
          "metadata": {},
          "execution_count": 1
        }
      ]
    },
    {
      "cell_type": "code",
      "source": [
        "dias[1]"
      ],
      "metadata": {
        "id": "fTNWX8uwvlXV"
      },
      "execution_count": null,
      "outputs": []
    },
    {
      "cell_type": "code",
      "source": [
        "dias[2]"
      ],
      "metadata": {
        "id": "HWpIQQhZvnKA"
      },
      "execution_count": null,
      "outputs": []
    },
    {
      "cell_type": "markdown",
      "source": [
        "Modificando Listas:"
      ],
      "metadata": {
        "id": "Y7N8iHe9vqrv"
      }
    },
    {
      "cell_type": "code",
      "source": [
        "z = [3,8,9]\n",
        "z[0] = 7\n",
        "z"
      ],
      "metadata": {
        "colab": {
          "base_uri": "https://localhost:8080/"
        },
        "id": "_bQvHbi9vti3",
        "outputId": "33e38f7d-9fb1-4096-f9e0-67b9a0f9e96d"
      },
      "execution_count": null,
      "outputs": [
        {
          "output_type": "execute_result",
          "data": {
            "text/plain": [
              "[7, 8, 9]"
            ]
          },
          "metadata": {},
          "execution_count": 2
        }
      ]
    },
    {
      "cell_type": "code",
      "source": [
        "v = 67589\n",
        "l = v"
      ],
      "metadata": {
        "id": "Ywb_vKdUv4Bz"
      },
      "execution_count": null,
      "outputs": []
    },
    {
      "cell_type": "markdown",
      "source": [
        "Clonando Listas"
      ],
      "metadata": {
        "id": "zh9YJmGAwAsF"
      }
    },
    {
      "cell_type": "code",
      "source": [
        "a = [81, 82, 83]"
      ],
      "metadata": {
        "id": "4-h7ka8ywBWp"
      },
      "execution_count": null,
      "outputs": []
    },
    {
      "cell_type": "code",
      "source": [
        "b = a[:] # cria um clone com fatia"
      ],
      "metadata": {
        "id": "qQtCayjlwDGZ"
      },
      "execution_count": null,
      "outputs": []
    },
    {
      "cell_type": "code",
      "source": [
        "print(a == b)"
      ],
      "metadata": {
        "id": "Tz11FlDMwGJK"
      },
      "execution_count": null,
      "outputs": []
    },
    {
      "cell_type": "code",
      "source": [
        "print(a is b)"
      ],
      "metadata": {
        "id": "iFnYbU8lwIGC"
      },
      "execution_count": null,
      "outputs": []
    },
    {
      "cell_type": "code",
      "source": [
        "b[0] = 5"
      ],
      "metadata": {
        "id": "bZVEA8QiwJ5D"
      },
      "execution_count": null,
      "outputs": []
    },
    {
      "cell_type": "code",
      "source": [
        "print(a)"
      ],
      "metadata": {
        "id": "-C2_MKURwMp7"
      },
      "execution_count": null,
      "outputs": []
    },
    {
      "cell_type": "code",
      "source": [
        "print(b)"
      ],
      "metadata": {
        "id": "TlX1zWLWwNUK"
      },
      "execution_count": null,
      "outputs": []
    },
    {
      "cell_type": "markdown",
      "source": [
        "Fatiamento as listas"
      ],
      "metadata": {
        "id": "Ztuiz1iAwRNj"
      }
    },
    {
      "cell_type": "code",
      "source": [
        "uma_lista = ['a', 'b', 'c', 'd', 'e', 'f']\n",
        "print(uma_lista[1:3])\n",
        "print(uma_lista[:4])\n",
        "print(uma_lista[3:])\n",
        "print(uma_lista[:])"
      ],
      "metadata": {
        "colab": {
          "base_uri": "https://localhost:8080/"
        },
        "id": "Z5C19I5jwUHO",
        "outputId": "12e3d818-e9b1-482e-ccb6-f80894fd846e"
      },
      "execution_count": null,
      "outputs": [
        {
          "output_type": "stream",
          "name": "stdout",
          "text": [
            "['b', 'c']\n",
            "['a', 'b', 'c', 'd']\n",
            "['d', 'e', 'f']\n",
            "['a', 'b', 'c', 'd', 'e', 'f']\n"
          ]
        }
      ]
    },
    {
      "cell_type": "markdown",
      "source": [
        "praticas de lista"
      ],
      "metadata": {
        "id": "c9FyG0gUwYyc"
      }
    },
    {
      "cell_type": "code",
      "source": [
        "a = [1, 2, 3]"
      ],
      "metadata": {
        "id": "ayCv_BKewaa0"
      },
      "execution_count": null,
      "outputs": []
    },
    {
      "cell_type": "code",
      "source": [
        "b = a[:]"
      ],
      "metadata": {
        "id": "dPhLYb2kwb7F"
      },
      "execution_count": null,
      "outputs": []
    },
    {
      "cell_type": "code",
      "source": [
        "b[0] = 5"
      ],
      "metadata": {
        "id": "RHSq6k13wddm"
      },
      "execution_count": null,
      "outputs": []
    },
    {
      "cell_type": "code",
      "source": [
        "print(a[3])"
      ],
      "metadata": {
        "id": "7C334wi6we80"
      },
      "execution_count": null,
      "outputs": []
    },
    {
      "cell_type": "markdown",
      "source": [
        "praticas com list 2"
      ],
      "metadata": {
        "id": "fasnDjmLwlQf"
      }
    },
    {
      "cell_type": "code",
      "source": [
        "#a)\n",
        "itens = [76, 92.3,'oi', True, 4, 76]\n",
        "itens.extend(['pitomba',76])"
      ],
      "metadata": {
        "id": "q6HwOVAUwnUU"
      },
      "execution_count": 31,
      "outputs": []
    },
    {
      "cell_type": "code",
      "source": [
        "#b)\n",
        "itens.insert(3,'Cibele')"
      ],
      "metadata": {
        "id": "LJ_lmk55xT7p"
      },
      "execution_count": 33,
      "outputs": []
    },
    {
      "cell_type": "code",
      "source": [
        "#c)\n",
        "item1,*itemOutros = itens.copy()\n",
        "itens.clear()\n",
        "itens.append(99)\n",
        "itens.append(item1)\n",
        "itens.extend(itensOutros)\n",
        "itens"
      ],
      "metadata": {
        "colab": {
          "base_uri": "https://localhost:8080/"
        },
        "id": "SDf5YoWcxj4p",
        "outputId": "bc5c323d-272a-4c2f-e8dd-c3497bd477b9"
      },
      "execution_count": 34,
      "outputs": [
        {
          "output_type": "execute_result",
          "data": {
            "text/plain": [
              "[99, 76, 92.3, 'oi', 'Cibele', 4, 76, 'pitomba', 76]"
            ]
          },
          "metadata": {},
          "execution_count": 34
        }
      ]
    },
    {
      "cell_type": "code",
      "source": [
        "#d)\n",
        "itens.index('oi')"
      ],
      "metadata": {
        "colab": {
          "base_uri": "https://localhost:8080/"
        },
        "id": "TFAIM6cH2Ae9",
        "outputId": "fa363be0-3ceb-4140-876d-56c302590376"
      },
      "execution_count": 28,
      "outputs": [
        {
          "output_type": "execute_result",
          "data": {
            "text/plain": [
              "3"
            ]
          },
          "metadata": {},
          "execution_count": 28
        }
      ]
    },
    {
      "cell_type": "code",
      "source": [
        "itens.pop(4)"
      ],
      "metadata": {
        "colab": {
          "base_uri": "https://localhost:8080/",
          "height": 35
        },
        "id": "vbHQw5zJ2Om1",
        "outputId": "721680ec-ea23-4324-a31f-d54320a0ebfa"
      },
      "execution_count": 36,
      "outputs": [
        {
          "output_type": "execute_result",
          "data": {
            "text/plain": [
              "'Cibele'"
            ],
            "application/vnd.google.colaboratory.intrinsic+json": {
              "type": "string"
            }
          },
          "metadata": {},
          "execution_count": 36
        }
      ]
    },
    {
      "cell_type": "markdown",
      "source": [
        "Praticando turplas"
      ],
      "metadata": {
        "id": "3fwfmfaS31s2"
      }
    },
    {
      "cell_type": "code",
      "source": [
        "tupla_numeros = (10, 20, 30)"
      ],
      "metadata": {
        "id": "pYxO2kJY35Ge"
      },
      "execution_count": null,
      "outputs": []
    },
    {
      "cell_type": "code",
      "source": [
        "tupla_numeros"
      ],
      "metadata": {
        "id": "ZgImb3yr37le"
      },
      "execution_count": null,
      "outputs": []
    },
    {
      "cell_type": "code",
      "source": [
        "tupla_nova = 10, 20, 30 #sem parentenses"
      ],
      "metadata": {
        "id": "gFqeiYvr4AQO"
      },
      "execution_count": null,
      "outputs": []
    },
    {
      "cell_type": "code",
      "source": [
        "tupla_elemento = 10, #1 elemnto"
      ],
      "metadata": {
        "id": "Lzsvmwzp4FJ2"
      },
      "execution_count": null,
      "outputs": []
    },
    {
      "cell_type": "code",
      "source": [
        "tupla_vazia = () #vazia"
      ],
      "metadata": {
        "id": "Wpg4rJbZ4HYn"
      },
      "execution_count": null,
      "outputs": []
    },
    {
      "cell_type": "code",
      "source": [
        "nova_tupla = tuple('Teste') #intanciando"
      ],
      "metadata": {
        "id": "fRVpchzv4L4J"
      },
      "execution_count": null,
      "outputs": []
    },
    {
      "cell_type": "code",
      "source": [
        "tupla_nomes = ('Marlene', 'Zezinho', 'Marlene', 'Cibele', 'Zuely')"
      ],
      "metadata": {
        "id": "deS1-gkP4Qww"
      },
      "execution_count": null,
      "outputs": []
    },
    {
      "cell_type": "code",
      "source": [
        "tupla_nomes.count('Marlene')"
      ],
      "metadata": {
        "id": "rBJQTRVG4SrC"
      },
      "execution_count": null,
      "outputs": []
    },
    {
      "cell_type": "code",
      "source": [
        "print (tupla_nomes.count('Suely'))"
      ],
      "metadata": {
        "id": "tSR2NF0j4UOY"
      },
      "execution_count": null,
      "outputs": []
    },
    {
      "cell_type": "code",
      "source": [
        "print (tupla_nomes.count('Zezinho'))"
      ],
      "metadata": {
        "id": "ASrKOL-i4WAh"
      },
      "execution_count": null,
      "outputs": []
    },
    {
      "cell_type": "markdown",
      "source": [
        "Atividade turpla"
      ],
      "metadata": {
        "id": "3T0rI5f54b0U"
      }
    },
    {
      "cell_type": "code",
      "source": [
        "tupla = (1, 2, 2, 3, 4, 4, 4, 5)\n",
        "tupla.count(4)"
      ],
      "metadata": {
        "colab": {
          "base_uri": "https://localhost:8080/"
        },
        "id": "bK4OgCia4ePz",
        "outputId": "8874a578-576f-42bc-c1a0-4170b38e1adb"
      },
      "execution_count": 37,
      "outputs": [
        {
          "output_type": "execute_result",
          "data": {
            "text/plain": [
              "3"
            ]
          },
          "metadata": {},
          "execution_count": 37
        }
      ]
    },
    {
      "cell_type": "markdown",
      "source": [
        "Dicionario em python"
      ],
      "metadata": {
        "id": "4gAST7Wu4pkl"
      }
    },
    {
      "cell_type": "code",
      "source": [
        "dicio = {'chave': 'valor'}"
      ],
      "metadata": {
        "id": "j4gJK3Kn4rym"
      },
      "execution_count": null,
      "outputs": []
    },
    {
      "cell_type": "code",
      "source": [
        "print(type(dicio))"
      ],
      "metadata": {
        "id": "iZSOJCiP4tsA"
      },
      "execution_count": null,
      "outputs": []
    },
    {
      "cell_type": "markdown",
      "source": [
        "praticas com dicionario"
      ],
      "metadata": {
        "id": "B7tWm1I842nk"
      }
    },
    {
      "cell_type": "code",
      "source": [
        "d = {'laranjas': 15, 'bananas': 35, 'siriguelas': 12}"
      ],
      "metadata": {
        "id": "twGjRPy3441x"
      },
      "execution_count": null,
      "outputs": []
    },
    {
      "cell_type": "code",
      "source": [
        "d['bananas']"
      ],
      "metadata": {
        "id": "j_dzCyih46e5"
      },
      "execution_count": null,
      "outputs": []
    },
    {
      "cell_type": "code",
      "source": [
        "d['pitomba'] = 20"
      ],
      "metadata": {
        "id": "OtA3aCRY49kt"
      },
      "execution_count": null,
      "outputs": []
    },
    {
      "cell_type": "code",
      "source": [
        "len(d)"
      ],
      "metadata": {
        "id": "kGVUBrS94_Mc"
      },
      "execution_count": null,
      "outputs": []
    },
    {
      "cell_type": "code",
      "source": [
        "'pitomba' in d"
      ],
      "metadata": {
        "id": "x3LrPC0T5BQr"
      },
      "execution_count": null,
      "outputs": []
    },
    {
      "cell_type": "code",
      "source": [
        "'pears' in d"
      ],
      "metadata": {
        "id": "JeCQHWvq5DOd"
      },
      "execution_count": null,
      "outputs": []
    },
    {
      "cell_type": "code",
      "source": [
        "del d['laranjas']"
      ],
      "metadata": {
        "id": "1XF2hP-h5EEF"
      },
      "execution_count": null,
      "outputs": []
    },
    {
      "cell_type": "code",
      "source": [
        "'laranjas' in d"
      ],
      "metadata": {
        "id": "nRyTI_d-5I-j"
      },
      "execution_count": null,
      "outputs": []
    },
    {
      "cell_type": "code",
      "source": [
        "frutas = [\"pinha\", \"oiti coró\", \"jaca\", \"tamarindo\"]"
      ],
      "metadata": {
        "id": "C88xIZtd5KzO"
      },
      "execution_count": null,
      "outputs": []
    },
    {
      "cell_type": "code",
      "source": [
        "print([1, 2] + [3, 4])"
      ],
      "metadata": {
        "id": "O3tpOFIp5Lub"
      },
      "execution_count": null,
      "outputs": []
    },
    {
      "cell_type": "code",
      "source": [
        "print(frutas + [6, 7, 8, 9])"
      ],
      "metadata": {
        "id": "AL6hck_n5OiP"
      },
      "execution_count": null,
      "outputs": []
    },
    {
      "cell_type": "code",
      "source": [
        "print([0] * 4)"
      ],
      "metadata": {
        "id": "_-x3-YAl5QHZ"
      },
      "execution_count": null,
      "outputs": []
    },
    {
      "cell_type": "code",
      "source": [
        "print([1, 2, [\"oi\", \"tchau\"]]*2)"
      ],
      "metadata": {
        "id": "YFl5mfVL5QxJ"
      },
      "execution_count": null,
      "outputs": []
    },
    {
      "cell_type": "markdown",
      "source": [
        "usando append"
      ],
      "metadata": {
        "id": "g28tGkmd5T75"
      }
    },
    {
      "cell_type": "code",
      "source": [
        "minha_lista = []\n",
        "minha_lista.append(5)\n",
        "minha_lista.append(27)\n",
        "minha_lista.append(3)\n",
        "minha_lista.append(12)\n",
        "print(minha_lista)"
      ],
      "metadata": {
        "colab": {
          "base_uri": "https://localhost:8080/"
        },
        "id": "NqHZAQHW5VMh",
        "outputId": "da6acbc7-d1ea-4cce-fe0e-3a9447e9e67d"
      },
      "execution_count": 38,
      "outputs": [
        {
          "output_type": "stream",
          "name": "stdout",
          "text": [
            "[5, 27, 3, 12]\n"
          ]
        }
      ]
    },
    {
      "cell_type": "code",
      "source": [
        "#methods\n",
        "minha_lista.insert(1, 12)\n",
        "print(minha_lista)\n",
        "print(minha_lista.count(12))\n",
        "\n",
        "print(minha_lista.index(3))\n",
        "print(minha_lista.count(5))"
      ],
      "metadata": {
        "colab": {
          "base_uri": "https://localhost:8080/"
        },
        "id": "PxAKFjyU5cMk",
        "outputId": "0303c22c-b723-4a3a-dceb-b199a05dd47e"
      },
      "execution_count": 39,
      "outputs": [
        {
          "output_type": "stream",
          "name": "stdout",
          "text": [
            "[5, 12, 27, 3, 12]\n",
            "2\n",
            "3\n",
            "1\n"
          ]
        }
      ]
    },
    {
      "cell_type": "code",
      "source": [
        "minha_lista.reverse()\n",
        "print(minha_lista)\n",
        "minha_lista.sort()\n",
        "print(minha_lista)\n",
        "minha_lista.remove(5)\n",
        "print(minha_lista)"
      ],
      "metadata": {
        "colab": {
          "base_uri": "https://localhost:8080/"
        },
        "id": "8caSNMsy5iGU",
        "outputId": "d76e3cb6-7c64-4cbc-ff69-6db428924e9a"
      },
      "execution_count": 40,
      "outputs": [
        {
          "output_type": "stream",
          "name": "stdout",
          "text": [
            "[12, 3, 27, 12, 5]\n",
            "[3, 5, 12, 12, 27]\n",
            "[3, 12, 12, 27]\n"
          ]
        }
      ]
    },
    {
      "cell_type": "code",
      "source": [
        "ultimo_item = minha_lista.pop()\n",
        "print(ultimo_item)\n",
        "print(minha_lista)\n"
      ],
      "metadata": {
        "id": "w61yd3iS5lbQ"
      },
      "execution_count": null,
      "outputs": []
    },
    {
      "cell_type": "markdown",
      "source": [
        "**String 3.2**"
      ],
      "metadata": {
        "id": "jGx6s3Hg52pW"
      }
    },
    {
      "cell_type": "code",
      "source": [
        "s = “Python”\n",
        "s[0]\n",
        "s[1]"
      ],
      "metadata": {
        "id": "ezBzhFYv6DEe"
      },
      "execution_count": null,
      "outputs": []
    },
    {
      "cell_type": "code",
      "source": [
        "s = “Python”\n",
        "s[len(s)-1]"
      ],
      "metadata": {
        "id": "FHuyxI206Dzp"
      },
      "execution_count": null,
      "outputs": []
    },
    {
      "cell_type": "markdown",
      "source": [
        "Fatiamento"
      ],
      "metadata": {
        "id": "YJt-MIN_6J6T"
      }
    },
    {
      "cell_type": "code",
      "source": [
        "s = 'ABCDEFGG'\n",
        "s[0:2]\n",
        "s[1:5:2]\n",
        "s[3:6:2]"
      ],
      "metadata": {
        "id": "Pg8Pl-Ip6GKY"
      },
      "execution_count": null,
      "outputs": []
    },
    {
      "cell_type": "code",
      "source": [
        "s = 'ABCDEFGG'\n",
        "s[:2]\n",
        "s[3:]\n",
        "s[3::2]\n",
        "s[::]\n",
        "s[::3]"
      ],
      "metadata": {
        "id": "T8A38fe-6QSg"
      },
      "execution_count": null,
      "outputs": []
    },
    {
      "cell_type": "code",
      "source": [
        "s[-1:]\n",
        "s[0:-2] #s[:-2]\n",
        "s[-3:-1]\n",
        "s[-3:]\n",
        "s[-5:6]\n",
        "s[-1:-4:-1]"
      ],
      "metadata": {
        "id": "RYwX4t2r6SMB"
      },
      "execution_count": null,
      "outputs": []
    },
    {
      "cell_type": "code",
      "source": [
        "linguagem_preferida = 'Python'\n",
        "'P' in linguagem_preferida #True or False?\n",
        "'p' in linguagem_preferida #True or False?\n",
        "'n' in linguagem_preferida #True or False?\n",
        "linguagem_preferida in linguagem_preferida #True or False?"
      ],
      "metadata": {
        "id": "PdWKsJsm6X_5"
      },
      "execution_count": null,
      "outputs": []
    },
    {
      "cell_type": "code",
      "source": [
        "'python'.upper()\n",
        "verdade = 'python é legal'\n",
        "'python'.title()\n",
        "'' ''.join(verdade.split())\n",
        "'python é legal'.split()"
      ],
      "metadata": {
        "colab": {
          "base_uri": "https://localhost:8080/"
        },
        "id": "wdJKrI5R6hxu",
        "outputId": "1975cc2c-b258-410e-fca0-933d0dc6ae3e"
      },
      "execution_count": 42,
      "outputs": [
        {
          "output_type": "execute_result",
          "data": {
            "text/plain": [
              "['python', 'é', 'legal']"
            ]
          },
          "metadata": {},
          "execution_count": 42
        }
      ]
    },
    {
      "cell_type": "code",
      "source": [
        "linguagem_preferida = ‘Python’\n",
        "print('Eu amo %s' % (linguagem_preferida))\n",
        "print('Eu tenho %d anos' % (19))\n",
        "print('Eu tenho %02d anos de idade' % (9))\n",
        "print('Eu tenho %03d anos de idade e %2.5f na poupança' % (19, 100))"
      ],
      "metadata": {
        "id": "ph3g7GSA6tOm"
      },
      "execution_count": null,
      "outputs": []
    },
    {
      "cell_type": "markdown",
      "source": [
        "Desafio"
      ],
      "metadata": {
        "id": "5zaqPDu98Mku"
      }
    },
    {
      "cell_type": "code",
      "source": [
        "nome = list()\n",
        "aux = list()\n",
        "nomeResultado = ''\n",
        "nome = list(input('Seu nome: '))\n",
        "nome.reverse()\n",
        "nomeresultado = str(str.join(nome))\n",
        "print(f'invertido em maiusculo\\n{nomeResultado}')\n"
      ],
      "metadata": {
        "colab": {
          "base_uri": "https://localhost:8080/",
          "height": 235
        },
        "id": "8p7vPJuhGV6k",
        "outputId": "633a28a2-d7e1-44fd-a12f-256db1f9e66d"
      },
      "execution_count": 67,
      "outputs": [
        {
          "name": "stdout",
          "output_type": "stream",
          "text": [
            "Seu nome: abcdef\n"
          ]
        },
        {
          "output_type": "error",
          "ename": "TypeError",
          "evalue": "ignored",
          "traceback": [
            "\u001b[0;31m---------------------------------------------------------------------------\u001b[0m",
            "\u001b[0;31mTypeError\u001b[0m                                 Traceback (most recent call last)",
            "\u001b[0;32m<ipython-input-67-3fffbd420062>\u001b[0m in \u001b[0;36m<module>\u001b[0;34m\u001b[0m\n\u001b[1;32m      4\u001b[0m \u001b[0mnome\u001b[0m \u001b[0;34m=\u001b[0m \u001b[0mlist\u001b[0m\u001b[0;34m(\u001b[0m\u001b[0minput\u001b[0m\u001b[0;34m(\u001b[0m\u001b[0;34m'Seu nome: '\u001b[0m\u001b[0;34m)\u001b[0m\u001b[0;34m)\u001b[0m\u001b[0;34m\u001b[0m\u001b[0;34m\u001b[0m\u001b[0m\n\u001b[1;32m      5\u001b[0m \u001b[0mnome\u001b[0m\u001b[0;34m.\u001b[0m\u001b[0mreverse\u001b[0m\u001b[0;34m(\u001b[0m\u001b[0;34m)\u001b[0m\u001b[0;34m\u001b[0m\u001b[0;34m\u001b[0m\u001b[0m\n\u001b[0;32m----> 6\u001b[0;31m \u001b[0mnomeresultado\u001b[0m \u001b[0;34m=\u001b[0m \u001b[0mstr\u001b[0m\u001b[0;34m(\u001b[0m\u001b[0mstr\u001b[0m\u001b[0;34m.\u001b[0m\u001b[0mjoin\u001b[0m\u001b[0;34m(\u001b[0m\u001b[0mnome\u001b[0m\u001b[0;34m)\u001b[0m\u001b[0;34m)\u001b[0m\u001b[0;34m\u001b[0m\u001b[0;34m\u001b[0m\u001b[0m\n\u001b[0m\u001b[1;32m      7\u001b[0m \u001b[0mprint\u001b[0m\u001b[0;34m(\u001b[0m\u001b[0;34mf'invertido em maiusculo\\n{nomeResultado}'\u001b[0m\u001b[0;34m)\u001b[0m\u001b[0;34m\u001b[0m\u001b[0;34m\u001b[0m\u001b[0m\n",
            "\u001b[0;31mTypeError\u001b[0m: descriptor 'join' requires a 'str' object but received a 'list'"
          ]
        }
      ]
    },
    {
      "cell_type": "markdown",
      "source": [
        "funcao range"
      ],
      "metadata": {
        "id": "uYVxP2-FPYAA"
      }
    },
    {
      "cell_type": "code",
      "source": [
        "print(list(range(10)))"
      ],
      "metadata": {
        "id": "gjyaelL5PZwk"
      },
      "execution_count": null,
      "outputs": []
    },
    {
      "cell_type": "code",
      "source": [
        "print(list(range(1,11)))"
      ],
      "metadata": {
        "id": "6teTkLAlPjTe"
      },
      "execution_count": null,
      "outputs": []
    },
    {
      "cell_type": "code",
      "source": [
        "print(list(range(0,-10,-1)))"
      ],
      "metadata": {
        "id": "ay3_ZB1DPp2u"
      },
      "execution_count": null,
      "outputs": []
    },
    {
      "cell_type": "code",
      "source": [
        "print(list(range(0,30,5)))"
      ],
      "metadata": {
        "colab": {
          "base_uri": "https://localhost:8080/"
        },
        "id": "kfiJrnT1PvN4",
        "outputId": "8bc95189-53e8-4f7a-965d-4be9b35a37a2"
      },
      "execution_count": 60,
      "outputs": [
        {
          "output_type": "stream",
          "name": "stdout",
          "text": [
            "[0, 5, 10, 15, 20, 25]\n"
          ]
        }
      ]
    }
  ]
}