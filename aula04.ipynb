{
  "nbformat": 4,
  "nbformat_minor": 0,
  "metadata": {
    "colab": {
      "provenance": [],
      "collapsed_sections": [],
      "authorship_tag": "ABX9TyNk1ragsL5JWROChdUELP77",
      "include_colab_link": true
    },
    "kernelspec": {
      "name": "python3",
      "display_name": "Python 3"
    },
    "language_info": {
      "name": "python"
    }
  },
  "cells": [
    {
      "cell_type": "markdown",
      "metadata": {
        "id": "view-in-github",
        "colab_type": "text"
      },
      "source": [
        "<a href=\"https://colab.research.google.com/github/Diego6699/senac-python/blob/main/aula04.ipynb\" target=\"_parent\"><img src=\"https://colab.research.google.com/assets/colab-badge.svg\" alt=\"Open In Colab\"/></a>"
      ]
    },
    {
      "cell_type": "markdown",
      "source": [
        "VARRENDO LISTA"
      ],
      "metadata": {
        "id": "6QK4T74VUWL7"
      }
    },
    {
      "cell_type": "code",
      "execution_count": null,
      "metadata": {
        "id": "wVjGWc9yIfn8"
      },
      "outputs": [],
      "source": [
        "for elemento in [1,2,3,4,5,6]:\n",
        "  print('Estamos no elemento: ',elemento)\n"
      ]
    },
    {
      "cell_type": "markdown",
      "source": [
        "VARRENDO STRING"
      ],
      "metadata": {
        "id": "d6rtDqTNUcos"
      }
    },
    {
      "cell_type": "code",
      "source": [
        "for elemento in 'STRING':\n",
        "  print('Estamos no elemento: ',elemento)"
      ],
      "metadata": {
        "id": "nHD7dePONIQm"
      },
      "execution_count": null,
      "outputs": []
    },
    {
      "cell_type": "code",
      "source": [
        "#abstrato\n",
        "for elemento in range(len('STRING')):#percorrrer o compriprimento do objeto\n",
        "  print('Estamos no elemento',elemento)"
      ],
      "metadata": {
        "id": "QtnnC6AqOCb4"
      },
      "execution_count": null,
      "outputs": []
    },
    {
      "cell_type": "markdown",
      "source": [
        "VARRENDO COM WHILE"
      ],
      "metadata": {
        "id": "TCaaQtrzUgn7"
      }
    },
    {
      "cell_type": "code",
      "source": [
        "produto = 0\n",
        "while produto < 4:\n",
        "  p = str(input('Digite o nome do produto: '))\n",
        "  v = float(input('Digite o valor do produto: '))\n",
        "  produto += 1"
      ],
      "metadata": {
        "id": "UtuMwTKmOyDW"
      },
      "execution_count": null,
      "outputs": []
    },
    {
      "cell_type": "code",
      "source": [
        "#usando while\n",
        "elemento = 0\n",
        "while elemento <= len([1,2,3,4,5,6]):\n",
        "  print('Estamos no elemento: ',elemento)\n",
        "  elemento += 1"
      ],
      "metadata": {
        "id": "tJg2EmBhPhI0"
      },
      "execution_count": null,
      "outputs": []
    },
    {
      "cell_type": "code",
      "source": [
        "s = 'STRING'\n",
        "indice = 0\n",
        "while indice in range(len(s)):\n",
        "  print('Estamos no elemento ',s[indice])\n",
        "  indice +=1"
      ],
      "metadata": {
        "id": "OG33mpArQdmt"
      },
      "execution_count": null,
      "outputs": []
    },
    {
      "cell_type": "markdown",
      "source": [
        "USANDO ENUMERATE"
      ],
      "metadata": {
        "id": "LGhKVnAsSKpc"
      }
    },
    {
      "cell_type": "code",
      "source": [
        "palavra = 'tranquilo'\n",
        "for indice , letra in enumerate(palavra):\n",
        "  print(indice,type(indice),letra,type(letra))"
      ],
      "metadata": {
        "id": "kWwb12_MRjwu"
      },
      "execution_count": null,
      "outputs": []
    },
    {
      "cell_type": "code",
      "source": [
        "lista = ['eat','sleep','repeat']\n",
        "palavra = 'geek'"
      ],
      "metadata": {
        "id": "bztKRsWFTs9b"
      },
      "execution_count": null,
      "outputs": []
    },
    {
      "cell_type": "code",
      "source": [
        "objeto1 = enumerate(lista)\n",
        "objeto2 = enumerate(palavra)"
      ],
      "metadata": {
        "id": "Om-vjG3YUIyT"
      },
      "execution_count": null,
      "outputs": []
    },
    {
      "cell_type": "code",
      "source": [
        "print('Tipo: ',type(objeto1))\n",
        "print(list(enumerate(lista)))\n",
        "print(list(enumerate(palavra,2)))#comecando pela segunda posicao"
      ],
      "metadata": {
        "id": "nghAnXnXUry3"
      },
      "execution_count": null,
      "outputs": []
    },
    {
      "cell_type": "markdown",
      "source": [
        "ATIVIDADE 01"
      ],
      "metadata": {
        "id": "muMqeEi1XDNS"
      }
    },
    {
      "cell_type": "code",
      "source": [
        "s = 'viva o python'\n",
        "for ch in s:\n",
        "  print('oi')"
      ],
      "metadata": {
        "id": "XtroaSrKVkUf"
      },
      "execution_count": null,
      "outputs": []
    },
    {
      "cell_type": "markdown",
      "source": [
        "ATIVIDADE 2"
      ],
      "metadata": {
        "id": "VXmNX4lQXFGq"
      }
    },
    {
      "cell_type": "code",
      "source": [
        "count = 0\n",
        "for ch in s[3:8]:\n",
        "  print('oi')\n",
        "  count +=1\n",
        "print(count)"
      ],
      "metadata": {
        "id": "erxS0-ttWiRU"
      },
      "execution_count": null,
      "outputs": []
    },
    {
      "cell_type": "markdown",
      "source": [
        "desafio : numero interios para quantidade de impares e pares"
      ],
      "metadata": {
        "id": "-0pUhX5OXHgq"
      }
    },
    {
      "cell_type": "code",
      "source": [
        "num = []\n",
        "impar = []\n",
        "par = []\n",
        "for i in range(0,10):\n",
        "  num.append(int(input(f'numero {i+1}: ')))\n",
        "  if num[i] % 2 == 0:\n",
        "    par.append(num[i])\n",
        "  else:\n",
        "    impar.append(num[i])\n",
        "print('numero par: ',par,'total de pares: ',len(par))\n",
        "print('numero impar: ',impar,'total de impares: ',len(impar))\n",
        "\n"
      ],
      "metadata": {
        "id": "iYuVnKECXIkE"
      },
      "execution_count": null,
      "outputs": []
    },
    {
      "cell_type": "code",
      "source": [
        "num = []\n",
        "impar = []\n",
        "par = []\n",
        "i = 0\n",
        "while i in range(10):\n",
        "  num.append(int(input(f'numero {i+1}: ')))\n",
        "  if num[i] % 2 == 0:\n",
        "    par.append(num[i])\n",
        "  else:\n",
        "    impar.append(num[i])\n",
        "  i +=1\n",
        "print(f'total {len(par)} :{par}')\n",
        "print(f'total {len(impar)} : {impar}')"
      ],
      "metadata": {
        "id": "SnEKb2w_biZY"
      },
      "execution_count": null,
      "outputs": []
    },
    {
      "cell_type": "code",
      "source": [
        "for nome in ['reginaldo','gisele','scoob','marcelo','zezinho','cibele','suely']:\n",
        "  convite = ('oi ' + nome + \" !Por favor , venha para o sábado pet em minha casa!\")\n",
        "  print(convite)\n"
      ],
      "metadata": {
        "id": "zcsf4J4kczZA"
      },
      "execution_count": null,
      "outputs": []
    },
    {
      "cell_type": "markdown",
      "source": [
        "PRATICA DE ERROS NO PYTHON"
      ],
      "metadata": {
        "id": "A97FfdV7gk32"
      }
    },
    {
      "cell_type": "code",
      "source": [
        "temperatura = float(input('Qual a temperatura: '))\n",
        "if temperatura > 30:\n",
        "  print('Vista roupas leves')\n",
        "else:\n",
        "  print('Busque seus casacos')"
      ],
      "metadata": {
        "colab": {
          "base_uri": "https://localhost:8080/"
        },
        "id": "M7dC7r2Dgnee",
        "outputId": "35cff80b-8047-46d2-dd66-3cddb08424e3"
      },
      "execution_count": null,
      "outputs": [
        {
          "output_type": "stream",
          "name": "stdout",
          "text": [
            "Qual a temperatura12\n",
            "Busque seus casacos\n"
          ]
        }
      ]
    },
    {
      "cell_type": "markdown",
      "source": [
        "PRATICA DE TEXTO"
      ],
      "metadata": {
        "id": "NkPrtGPjh9_F"
      }
    },
    {
      "cell_type": "code",
      "source": [
        "for um_char in 'Venha para a festa':\n",
        "  print(um_char)"
      ],
      "metadata": {
        "id": "jfA154JrhtxX"
      },
      "execution_count": null,
      "outputs": []
    },
    {
      "cell_type": "markdown",
      "source": [
        "pratica de range"
      ],
      "metadata": {
        "id": "7TTaoAkKiaW8"
      }
    },
    {
      "cell_type": "code",
      "source": [
        "for um_valor in range(10):\n",
        "  print(um_valor)"
      ],
      "metadata": {
        "id": "FARTfPklidZr"
      },
      "execution_count": null,
      "outputs": []
    },
    {
      "cell_type": "code",
      "source": [
        "frase = 'Educação não transforma o mundo. Educação muda pessoas.Pessoas transforma o mundo.(Paulo Freire)'\n",
        "count = 0\n",
        "for i in range(len(frase)):\n",
        "  if frase[i] == 's':\n",
        "    count +=1\n",
        "print(f'somatorio de \"s\" : {count}')\n",
        "\n",
        "print(f'somatorio de \"s\" {frase.count(\"s\")}')"
      ],
      "metadata": {
        "colab": {
          "base_uri": "https://localhost:8080/"
        },
        "id": "i_wDriZji7Eh",
        "outputId": "254ca235-262a-4e59-d553-2f1521f7ec77"
      },
      "execution_count": null,
      "outputs": [
        {
          "output_type": "stream",
          "name": "stdout",
          "text": [
            "somatorio de \"s\" : 0\n",
            "somatorio de \"s\" 8\n"
          ]
        }
      ]
    },
    {
      "cell_type": "markdown",
      "source": [
        "DESAFIO 2"
      ],
      "metadata": {
        "id": "2PEy8J0ypfga"
      }
    },
    {
      "cell_type": "code",
      "source": [
        "week = ('segunda','terça','quarta','quinta','sexta','Sábado','Domingo')\n",
        "dia = input('Qual o dia da semana: ')\n",
        "if dia == 'Sábado' or dia == 'Domingo':\n",
        "  print(f'Hoje é dia de descanso')\n",
        "elif not dia in week:\n",
        "  print('Dia inválido')\n",
        "else:\n",
        "  print(f'Você precisa trabalhar!')"
      ],
      "metadata": {
        "colab": {
          "base_uri": "https://localhost:8080/"
        },
        "id": "ZLG-SKTpphji",
        "outputId": "f7e9b4a7-684c-4397-d11c-ee2d915725b7"
      },
      "execution_count": null,
      "outputs": [
        {
          "output_type": "stream",
          "name": "stdout",
          "text": [
            "Qual o dia da semana: dumingo\n",
            "Dia invalido\n"
          ]
        }
      ]
    },
    {
      "cell_type": "markdown",
      "source": [
        "DESAFIO 3"
      ],
      "metadata": {
        "id": "0y3A4Au5rrar"
      }
    },
    {
      "cell_type": "code",
      "source": [
        "lista = []\n",
        "qtNum = int(input('Quantidade de numero: '))\n",
        "lista.extend(list(range(qtNum)))\n",
        "for i in range(len(lista)):\n",
        "  if lista[i] % 2 == 0:\n",
        "    print(f'numero par: {lista[i]}')\n",
        "  else:\n",
        "    print(f'numero impar: {lista[i] * lista[i]}')"
      ],
      "metadata": {
        "colab": {
          "base_uri": "https://localhost:8080/"
        },
        "id": "YFIADjh2ucNx",
        "outputId": "1a2a2d83-1e49-4a13-806d-017168bf33c7"
      },
      "execution_count": null,
      "outputs": [
        {
          "output_type": "stream",
          "name": "stdout",
          "text": [
            "Quantidade de numero: 12\n",
            "numero par: 0\n",
            "numero impar: 1\n",
            "numero par: 2\n",
            "numero impar: 9\n",
            "numero par: 4\n",
            "numero impar: 25\n",
            "numero par: 6\n",
            "numero impar: 49\n",
            "numero par: 8\n",
            "numero impar: 81\n",
            "numero par: 10\n",
            "numero impar: 121\n"
          ]
        }
      ]
    },
    {
      "cell_type": "markdown",
      "source": [
        "Desafio pecorrer palavra"
      ],
      "metadata": {
        "id": "0JCvVtASw5MW"
      }
    },
    {
      "cell_type": "code",
      "source": [
        "\n",
        "  palavra  = \"python é a melhor linguagem do mundo!\"\n",
        "  palavra = palavra.upper()\n",
        "  for k,l in enumerate(palavra):\n",
        "    if (l == 'A' or l == \"E\" or l == \"I\" or l == \"O\" or l == \"U\"):\n",
        "      print(f'index: {k} vogal: {l}')"
      ],
      "metadata": {
        "colab": {
          "base_uri": "https://localhost:8080/"
        },
        "id": "Nl947E1mw6z-",
        "outputId": "f6e87c6a-c02c-4d4c-ad95-d3faf3c0365b"
      },
      "execution_count": 12,
      "outputs": [
        {
          "output_type": "stream",
          "name": "stdout",
          "text": [
            "index: 4 vogal: O\n",
            "index: 9 vogal: A\n",
            "index: 12 vogal: E\n",
            "index: 15 vogal: O\n",
            "index: 19 vogal: I\n",
            "index: 22 vogal: U\n",
            "index: 23 vogal: A\n",
            "index: 25 vogal: E\n",
            "index: 29 vogal: O\n",
            "index: 32 vogal: U\n",
            "index: 35 vogal: O\n"
          ]
        }
      ]
    },
    {
      "cell_type": "markdown",
      "source": [
        "Desafio achar o morango na lista"
      ],
      "metadata": {
        "id": "_nryxm9Azztk"
      }
    },
    {
      "cell_type": "code",
      "source": [
        "frutas = [\"Banana\",\"Pêra\",\"Uva\",\"Melancia\",\"Coco\"]\n",
        "if \"Morange\" in  frutas:\n",
        "  print(\"Tem morangooooo!\")\n",
        "else:\n",
        "  print(\"sem  Morango :(\")"
      ],
      "metadata": {
        "colab": {
          "base_uri": "https://localhost:8080/"
        },
        "id": "z4AjV76Pz37i",
        "outputId": "237b3fe4-fb6c-439f-f16a-fcb5329a0447"
      },
      "execution_count": 13,
      "outputs": [
        {
          "output_type": "stream",
          "name": "stdout",
          "text": [
            "sem  Morango :(\n"
          ]
        }
      ]
    },
    {
      "cell_type": "markdown",
      "source": [
        "Desafio sequencia de numero pares de 100 á 150"
      ],
      "metadata": {
        "id": "lf-qY4B20y8s"
      }
    },
    {
      "cell_type": "code",
      "source": [
        "numeros = list(range(100, 151,2))\n",
        "print(numeros)"
      ],
      "metadata": {
        "colab": {
          "base_uri": "https://localhost:8080/"
        },
        "id": "QQnGLoX_04jV",
        "outputId": "81ef5fb6-5beb-4ea4-f92d-f1c474c0f4b0"
      },
      "execution_count": 14,
      "outputs": [
        {
          "output_type": "stream",
          "name": "stdout",
          "text": [
            "[100, 102, 104, 106, 108, 110, 112, 114, 116, 118, 120, 122, 124, 126, 128, 130, 132, 134, 136, 138, 140, 142, 144, 146, 148, 150]\n"
          ]
        }
      ]
    },
    {
      "cell_type": "markdown",
      "source": [
        "Desafio temperatura"
      ],
      "metadata": {
        "id": "nFq-3nbH3k_c"
      }
    },
    {
      "cell_type": "code",
      "source": [
        "temperatura = 40\n",
        "for i in range(40):\n",
        "  if(temperatura > 25):\n",
        "    print(f\"temperatura: {temperatura}\")\n",
        "  temperatura -= 1"
      ],
      "metadata": {
        "id": "6iHeVd1l1je0"
      },
      "execution_count": null,
      "outputs": []
    },
    {
      "cell_type": "markdown",
      "source": [
        "Desafio contador"
      ],
      "metadata": {
        "id": "Os9lLwjz4HOE"
      }
    },
    {
      "cell_type": "code",
      "source": [
        "contador = 0\n",
        "while contador < 100:\n",
        "  print(contador)\n",
        "  contador +=1"
      ],
      "metadata": {
        "id": "vTYptAS14W5m"
      },
      "execution_count": null,
      "outputs": []
    },
    {
      "cell_type": "markdown",
      "source": [
        "Desafio com lista e variaveis"
      ],
      "metadata": {
        "id": "ENrts_E04yaS"
      }
    },
    {
      "cell_type": "code",
      "source": [
        "lista = list()\n",
        "num = 4\n",
        "for i in range(100):\n",
        "  if(i % 2 == 0):\n",
        "    lista.append(i)\n",
        "print(lista)"
      ],
      "metadata": {
        "colab": {
          "base_uri": "https://localhost:8080/"
        },
        "id": "OpivKgxL426c",
        "outputId": "c1572d4c-a518-4663-c765-9f0e92a2da65"
      },
      "execution_count": 30,
      "outputs": [
        {
          "output_type": "stream",
          "name": "stdout",
          "text": [
            "[0, 2, 4, 6, 8, 10, 12, 14, 16, 18, 20, 22, 24, 26, 28, 30, 32, 34, 36, 38, 40, 42, 44, 46, 48, 50, 52, 54, 56, 58, 60, 62, 64, 66, 68, 70, 72, 74, 76, 78, 80, 82, 84, 86, 88, 90, 92, 94, 96, 98]\n"
          ]
        }
      ]
    },
    {
      "cell_type": "markdown",
      "source": [
        "Desafio maior que index 5"
      ],
      "metadata": {
        "id": "ChuQPxYC8Zuc"
      }
    },
    {
      "cell_type": "code",
      "source": [
        "lista = ['a', 'b', 'c', 'd', 'e', 'f', 'g', 'h']\n",
        "for k,l in enumerate(lista):\n",
        "  if k > 5:\n",
        "    print(l)"
      ],
      "metadata": {
        "id": "3X4lieFK8dxc"
      },
      "execution_count": null,
      "outputs": []
    },
    {
      "cell_type": "markdown",
      "source": [
        "desafio criar um 3 dicionario"
      ],
      "metadata": {
        "id": "Ziaheqj082y0"
      }
    },
    {
      "cell_type": "code",
      "source": [
        "dict3 = {'a':4,'b':5}"
      ],
      "metadata": {
        "id": "T-34KXkA85ud"
      },
      "execution_count": 28,
      "outputs": []
    },
    {
      "cell_type": "markdown",
      "source": [
        "praticas"
      ],
      "metadata": {
        "id": "_LAiEcxF9SDU"
      }
    },
    {
      "cell_type": "code",
      "source": [
        "for um_valor in range(10):\n",
        "print(um_valor)"
      ],
      "metadata": {
        "id": "Nk5mjHQ_9TQ8"
      },
      "execution_count": null,
      "outputs": []
    },
    {
      "cell_type": "code",
      "source": [
        "for um_char in \"Venha para a festa\":\n",
        "print(um_char)"
      ],
      "metadata": {
        "id": "QSK9w65s9Uk0"
      },
      "execution_count": null,
      "outputs": []
    }
  ]
}