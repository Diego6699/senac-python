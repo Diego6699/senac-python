{
  "nbformat": 4,
  "nbformat_minor": 0,
  "metadata": {
    "colab": {
      "provenance": [],
      "collapsed_sections": [],
      "authorship_tag": "ABX9TyOm6VoSFr/Ox9yOhdJUuaUQ",
      "include_colab_link": true
    },
    "kernelspec": {
      "name": "python3",
      "display_name": "Python 3"
    },
    "language_info": {
      "name": "python"
    }
  },
  "cells": [
    {
      "cell_type": "markdown",
      "metadata": {
        "id": "view-in-github",
        "colab_type": "text"
      },
      "source": [
        "<a href=\"https://colab.research.google.com/github/Diego6699/senac-python/blob/main/aula06_aula.ipynb\" target=\"_parent\"><img src=\"https://colab.research.google.com/assets/colab-badge.svg\" alt=\"Open In Colab\"/></a>"
      ]
    },
    {
      "cell_type": "markdown",
      "source": [
        "**Diego Leonardo da Silva França** "
      ],
      "metadata": {
        "id": "KYymrlMlLpz6"
      }
    },
    {
      "cell_type": "markdown",
      "source": [
        "Modificador de acesso"
      ],
      "metadata": {
        "id": "rKePVlk0MqhK"
      }
    },
    {
      "cell_type": "code",
      "source": [
        "class Pessoa:\n",
        "  def __init__(self,nome,idade):\n",
        "    self.__nome = nome\n",
        "    self.__idade = idade\n",
        "  def get_nome(self):\n",
        "    return self.__nome\n",
        "\n",
        "  def set_nome(self,novo_nome):\n",
        "    self.__nome = novo_nome\n"
      ],
      "metadata": {
        "id": "xgWvrYhwMUUy"
      },
      "execution_count": null,
      "outputs": []
    },
    {
      "cell_type": "code",
      "source": [
        "#declarando uma classe\n",
        "class Pessoa:\n",
        "  #criando o construtor para classe PEssoa\n",
        "  def __init__(self,nome,idade):\n",
        "\n",
        "    #atributos privados\n",
        "    self.__nome = nome\n",
        "    self.__idade = idade\n",
        "\n",
        "  def imprimir(self):\n",
        "    print(f'Me chamos {self.__nome} e tenho {self.__idade}')\n",
        "\n",
        "#criando um instancia de Pessoa\n",
        "pessoa = Pessoa('Felipe',28)\n",
        "\n",
        "#chamando o metodo da classe\n",
        "pessoa.imprimir()"
      ],
      "metadata": {
        "colab": {
          "base_uri": "https://localhost:8080/"
        },
        "id": "rYJgzBy4OgBx",
        "outputId": "b798eeee-1f48-409a-e93f-78fcd47180ff"
      },
      "execution_count": null,
      "outputs": [
        {
          "output_type": "stream",
          "name": "stdout",
          "text": [
            "Me chamos Felipe e tenho 28\n"
          ]
        }
      ]
    },
    {
      "cell_type": "code",
      "source": [
        "class Pessoa():\n",
        "  #criando o construtor para classe Pessoa\n",
        "  def __init__(self,nome,idade):\n",
        "    self.__nome = nome\n",
        "    self.__idade = idade\n",
        "\n",
        "  #declarando nossos metod s de acesso dos atributos de classe\n",
        "  def getNome(self):\n",
        "    return self.__nome\n",
        "  def getIdade(seld):\n",
        "    return self.__idade\n",
        "\n",
        "    #declarando noss metodos modificadores dos atributos da classe \n",
        "    def setNome(self,nome):\n",
        "      self.__nome = nome\n",
        "    def setIdade(self,idade):\n",
        "      self.__idade = idade\n",
        "    def imprimir(self):\n",
        "      print('Me chamos %s e tenho %d anos'%(self.getNome(),self.getIdade()))"
      ],
      "metadata": {
        "id": "j0geDwmDQbA4"
      },
      "execution_count": null,
      "outputs": []
    },
    {
      "cell_type": "code",
      "source": [
        "#criando um instancia de Pessoa\n",
        "pessoa = Pessoa('Felipe',28)\n",
        "#chamando o metodo\n",
        "pessoa.imprimir()\n",
        "\n",
        "#mudando valor de nome usando o metodo modificador\n",
        "pessoa.getNome('Paulo')\n",
        "\n",
        "#chamando o metodo da classe\n",
        "pessoa.imprimir()"
      ],
      "metadata": {
        "id": "8c-T0BY7SEtq"
      },
      "execution_count": null,
      "outputs": []
    },
    {
      "cell_type": "markdown",
      "source": [
        "Mais sobre funções\n"
      ],
      "metadata": {
        "id": "_LkccUOBTzLA"
      }
    },
    {
      "cell_type": "code",
      "source": [
        "def nome_funcao(par1,par2):\n",
        "  instruncao_1\n",
        "  instruncao_2\n",
        "  instruncao_3\n",
        "  return resultado"
      ],
      "metadata": {
        "id": "eRwOleMPT36Y"
      },
      "execution_count": null,
      "outputs": []
    },
    {
      "cell_type": "code",
      "source": [
        "def foo():\n",
        "  print('Funcao `foo` foi executada')\n",
        "  print('Como não há parâmentros , o comportamento da função sempre será o  mesmo')"
      ],
      "metadata": {
        "id": "WZD7gYaJUP2K"
      },
      "execution_count": null,
      "outputs": []
    },
    {
      "cell_type": "code",
      "source": [
        "def bar(par1)\n",
        "print('Função `bar` foi executada')\n",
        "print(f'Parâmentro par1 recebe {par1} como valor (argumento)')"
      ],
      "metadata": {
        "id": "fNn5GFFiUwSA"
      },
      "execution_count": null,
      "outputs": []
    },
    {
      "cell_type": "code",
      "source": [
        "bar('Santos')"
      ],
      "metadata": {
        "id": "VMpkQxXKVZSL"
      },
      "execution_count": null,
      "outputs": []
    },
    {
      "cell_type": "code",
      "source": [
        "#multiplos parâmentros\n",
        "\n",
        "def baz(par1,par2):\n",
        "  print('Função `baz` foi executada')\n",
        "  print(f'Parâmentro par1 recebe argumento {par1}')\n",
        "  print(f'Parâmentro par2 recebe argumento {par2}')\n",
        "\n",
        "baz(\"Santos\",\"Dumont\")"
      ],
      "metadata": {
        "id": "ZAGZqwAIVdqo"
      },
      "execution_count": null,
      "outputs": []
    },
    {
      "cell_type": "markdown",
      "source": [
        "Parâmentro default"
      ],
      "metadata": {
        "id": "wE8_SO5GWE4L"
      }
    },
    {
      "cell_type": "code",
      "source": [
        "def baz2(par1,par2 = 'Barney'):\n",
        "  print(f'Argumento {par1}')\n",
        "  print(f'argumento nomeado {par2}')"
      ],
      "metadata": {
        "id": "Yi4rzF9hWIdo"
      },
      "execution_count": null,
      "outputs": []
    },
    {
      "cell_type": "markdown",
      "source": [
        "Parâmentro nomeado"
      ],
      "metadata": {
        "id": "KksZ0M3BWTXY"
      }
    },
    {
      "cell_type": "code",
      "source": [
        "baz2(par2 = \"Dumont\",par1 = \"Santos\")"
      ],
      "metadata": {
        "id": "j07-zOegWYZ4"
      },
      "execution_count": null,
      "outputs": []
    },
    {
      "cell_type": "markdown",
      "source": [
        "Funcao somar dois valores"
      ],
      "metadata": {
        "id": "nNyouJsFXJyx"
      }
    },
    {
      "cell_type": "code",
      "source": [
        "def adicao(n1,n2)\n",
        "  res = n1 + n2\n",
        "  return res"
      ],
      "metadata": {
        "id": "byZQcmyWXAbh"
      },
      "execution_count": null,
      "outputs": []
    },
    {
      "cell_type": "code",
      "source": [
        "adicao(2,3)"
      ],
      "metadata": {
        "id": "MFxx6AoFXNx4"
      },
      "execution_count": null,
      "outputs": []
    },
    {
      "cell_type": "code",
      "source": [
        "def subtracao(n1,n2):\n",
        "  res = n1 - n2\n",
        "  return res"
      ],
      "metadata": {
        "id": "2s-59RO0XRFA"
      },
      "execution_count": null,
      "outputs": []
    },
    {
      "cell_type": "code",
      "source": [
        "def multiplicacao(n1,n2):\n",
        "  return n1 * n2"
      ],
      "metadata": {
        "id": "hQQH7DhUXXTg"
      },
      "execution_count": null,
      "outputs": []
    },
    {
      "cell_type": "code",
      "source": [
        "def divisao(n1,n2):\n",
        "  return n1/n2"
      ],
      "metadata": {
        "id": "Oapyfl25XgvB"
      },
      "execution_count": null,
      "outputs": []
    },
    {
      "cell_type": "code",
      "source": [
        "u = adicao(a,b)\n",
        "v = subtracao(d,c)\n",
        "w = multiplicacao(u,v)\n",
        "x = divisao(w,2)"
      ],
      "metadata": {
        "id": "fZ-DNl8_Xuhq"
      },
      "execution_count": null,
      "outputs": []
    },
    {
      "cell_type": "code",
      "source": [
        "x"
      ],
      "metadata": {
        "id": "wf7z1ETaX9_Y"
      },
      "execution_count": null,
      "outputs": []
    },
    {
      "cell_type": "markdown",
      "source": [
        "funcao com paramentos com funcao com paramentos"
      ],
      "metadata": {
        "id": "NvTWwxLDYRGf"
      }
    },
    {
      "cell_type": "code",
      "source": [
        "divisao(multiplicacao(adicao(a,b),subtracao(d,c)),2)"
      ],
      "metadata": {
        "id": "FKrLz1MAYXu_"
      },
      "execution_count": null,
      "outputs": []
    },
    {
      "cell_type": "markdown",
      "source": [
        "lambdas"
      ],
      "metadata": {
        "id": "DsmtciPNYtXu"
      }
    },
    {
      "cell_type": "code",
      "source": [
        "\n",
        "lambda x p1,p1,p2 : expressão"
      ],
      "metadata": {
        "id": "iq-ljvXXYvuY"
      },
      "execution_count": null,
      "outputs": []
    },
    {
      "cell_type": "code",
      "source": [
        "lambda x: x**2"
      ],
      "metadata": {
        "colab": {
          "base_uri": "https://localhost:8080/"
        },
        "id": "Xb6UkCZ4Y7iZ",
        "outputId": "3154f477-3292-42cd-f155-498bf091074a"
      },
      "execution_count": null,
      "outputs": [
        {
          "output_type": "execute_result",
          "data": {
            "text/plain": [
              "<function __main__.<lambda>(x)>"
            ]
          },
          "metadata": {},
          "execution_count": 20
        }
      ]
    },
    {
      "cell_type": "code",
      "source": [
        "(lambda x: x**2)(2)"
      ],
      "metadata": {
        "colab": {
          "base_uri": "https://localhost:8080/"
        },
        "id": "-QVlgxODZToW",
        "outputId": "78e039a1-6d30-4759-ad20-5867d81cb2a9"
      },
      "execution_count": null,
      "outputs": [
        {
          "output_type": "execute_result",
          "data": {
            "text/plain": [
              "4"
            ]
          },
          "metadata": {},
          "execution_count": 21
        }
      ]
    },
    {
      "cell_type": "code",
      "source": [
        "(lambda x: x**4) (2)"
      ],
      "metadata": {
        "colab": {
          "base_uri": "https://localhost:8080/"
        },
        "id": "t6O6BlMHZgrI",
        "outputId": "2b3eeb85-6196-4ca4-b9af-6e5a320117a4"
      },
      "execution_count": null,
      "outputs": [
        {
          "output_type": "execute_result",
          "data": {
            "text/plain": [
              "16"
            ]
          },
          "metadata": {},
          "execution_count": 22
        }
      ]
    },
    {
      "cell_type": "markdown",
      "source": [
        "lambdas nas variavies"
      ],
      "metadata": {
        "id": "y6kIS2H0Z6oi"
      }
    },
    {
      "cell_type": "code",
      "source": [
        "exp2 = lambda x:x**2\n",
        "exp3 = lambda x:x**3\n",
        "exp4 = lambda x: x**4\n",
        "\n",
        "print(exp2(2))\n",
        "print(exp3(2))\n",
        "print(exp4(3))"
      ],
      "metadata": {
        "colab": {
          "base_uri": "https://localhost:8080/"
        },
        "id": "oD7Tuu2baAUx",
        "outputId": "aaefaff7-ad53-4e42-9137-0601d7d465f1"
      },
      "execution_count": null,
      "outputs": [
        {
          "output_type": "stream",
          "name": "stdout",
          "text": [
            "4\n",
            "8\n",
            "81\n"
          ]
        }
      ]
    },
    {
      "cell_type": "code",
      "source": [
        "exp = lambda x,p: x**p\n",
        "\n",
        "print(exp(2,2))\n",
        "print(exp(2,3))\n",
        "print(exp(2,4))"
      ],
      "metadata": {
        "id": "6eYUhslPadMP"
      },
      "execution_count": null,
      "outputs": []
    },
    {
      "cell_type": "markdown",
      "source": [
        "lambdas com valor default"
      ],
      "metadata": {
        "id": "unSQoYQKatBi"
      }
    },
    {
      "cell_type": "code",
      "source": [
        "exp = lambda x,p= 2: x**p"
      ],
      "metadata": {
        "id": "hH2Rn6DuawuG"
      },
      "execution_count": null,
      "outputs": []
    },
    {
      "cell_type": "code",
      "source": [
        "print(exp(2))"
      ],
      "metadata": {
        "colab": {
          "base_uri": "https://localhost:8080/"
        },
        "id": "dGbGQxi7a3e4",
        "outputId": "d6d98f2e-d675-4d64-9b4b-3b4bf9cf22d3"
      },
      "execution_count": null,
      "outputs": [
        {
          "output_type": "stream",
          "name": "stdout",
          "text": [
            "4\n"
          ]
        }
      ]
    },
    {
      "cell_type": "code",
      "source": [
        "print(exp(2,2))"
      ],
      "metadata": {
        "id": "MRX3zQ_Ta5gg"
      },
      "execution_count": null,
      "outputs": []
    },
    {
      "cell_type": "code",
      "source": [
        "print(exp(2,3))"
      ],
      "metadata": {
        "id": "Sbc8btOYa7gY"
      },
      "execution_count": null,
      "outputs": []
    },
    {
      "cell_type": "code",
      "source": [
        "print(exp(2,4))"
      ],
      "metadata": {
        "id": "fgJpF7Uga-CA"
      },
      "execution_count": null,
      "outputs": []
    },
    {
      "cell_type": "markdown",
      "source": [
        "class "
      ],
      "metadata": {
        "id": "18O2ubdObZBu"
      }
    },
    {
      "cell_type": "code",
      "source": [
        "class Vehicle:\n",
        "  def __init__(self,type,model,manufacturer,seat_capacity):\n",
        "    self.type = type\n",
        "    self.model = model\n",
        "    self.manufacturer = manufacturer\n",
        "    self.seat_capacity = seat_capacity"
      ],
      "metadata": {
        "id": "-tUMYb7zbdJ3"
      },
      "execution_count": null,
      "outputs": []
    },
    {
      "cell_type": "code",
      "source": [
        "myPlane = Vehicle('plane','A320','Airbus',180)\n",
        "myCar = Vehicle('car',model = 'Uno',manufacturer = \"Fiat\",seat_capacity=5)"
      ],
      "metadata": {
        "id": "1NbuTMbbbgzq"
      },
      "execution_count": null,
      "outputs": []
    },
    {
      "cell_type": "code",
      "source": [
        "print(myPlane.type)\n",
        "print(myPlane.manufacturer)\n",
        "print(myPlane.model)\n",
        "print(myPlane.seat_capacity)"
      ],
      "metadata": {
        "colab": {
          "base_uri": "https://localhost:8080/"
        },
        "id": "O7QcpXeLcz9-",
        "outputId": "1238328d-92c0-4e3e-be2a-54bee797d158"
      },
      "execution_count": null,
      "outputs": [
        {
          "output_type": "stream",
          "name": "stdout",
          "text": [
            "plane\n",
            "Airbus\n",
            "A320\n",
            "180\n"
          ]
        }
      ]
    },
    {
      "cell_type": "code",
      "source": [
        "print(myCar.type)\n",
        "print(myCar.manufacturer)\n",
        "print(myCar.model)\n",
        "print(myCar.seat_capacity)"
      ],
      "metadata": {
        "id": "hKCx3SvvdfvH"
      },
      "execution_count": null,
      "outputs": []
    },
    {
      "cell_type": "markdown",
      "source": [
        "usando Get e Set - encapsulamento"
      ],
      "metadata": {
        "id": "xunGloPOfRnw"
      }
    },
    {
      "cell_type": "code",
      "source": [
        "class Vehicle:\n",
        "  def __init__(self,type,model,manufacturer,seat_capacity):\n",
        "    self.type = type\n",
        "    self.model = model\n",
        "    self.manufacturer = manufacturer\n",
        "    self.seat_capacity = seat_capacity\n",
        "    self.n_passengers_onboard = 0\n",
        "\n",
        "  #Getter methods\n",
        "  def getModel(self):\n",
        "    return f'{self.manufacturer} {self.model}'\n",
        "  \n",
        "  def getSeatCapacity(self):\n",
        "    return self.seat_capacity\n",
        "\n",
        "  def getNumPassengerOnboard(self):\n",
        "    return self.n_passengers_onboard\n",
        "\n",
        "  def removeAllPassaengers(self):\n",
        "    self.n_passengers_onboard = 0\n",
        "\n",
        "  def embarkPassengers(self,n_passengers_to_embark):\n",
        "    available_seats = self.getNumSeatsAvailable()\n",
        "\n",
        "    if avalable_seats >= n_passengers_to_embark:\n",
        "      self.n_passengers_onboard += n_passengers_to_embark\n",
        "      return f'Mais {n_passengers_to_embark} passageiros embarcados com secesso'\n",
        "    else:\n",
        "      return f'Impossivel embarcar mais {n_passengers_to_embark} passageiros! Apenas {available_seats} assentos disponveis'\n",
        "  def removePassengers(self, n_passengers_to_remove):\n",
        "\n",
        "    if n_passengers_to_remove <= self.n_passengers_onboard:\n",
        "      self.n_passengers_onboard -= n_passengers_to_remove\n",
        "      return f'Desembarcarem {n_passengers_to_remove} passageiro'\n",
        "\n",
        "    elif self.n_passengers_onboard > 0:\n",
        "      n_passengers_remaining = self.n_passengers_onboard\n",
        "      self.removeAllPassaengers()\n",
        "      return f'Havia apenas {n_passengers_remaining}embarcados! embarcaram'\n",
        "\n",
        "    else:\n",
        "      return 'Nenhum passageiro a bordo'"
      ],
      "metadata": {
        "id": "asH89RMcfiVn"
      },
      "execution_count": null,
      "outputs": []
    },
    {
      "cell_type": "code",
      "source": [
        "print(myPlane.getModel())"
      ],
      "metadata": {
        "id": "yXoYESHYhoAu"
      },
      "execution_count": null,
      "outputs": []
    },
    {
      "cell_type": "code",
      "source": [
        "myCar = Vehicle('car',model = 'Uno',manufacturer='Fiat',seat_capacity=5)"
      ],
      "metadata": {
        "id": "Z3z4ZCE7hv0C"
      },
      "execution_count": null,
      "outputs": []
    },
    {
      "cell_type": "code",
      "source": [
        "print(myPlane.getModel())\n",
        "print(f'Cabem {myPlane.getSeatCapacity()} passageiros no {MyPlane.getModel()}')"
      ],
      "metadata": {
        "id": "L4u07MCWh9F_"
      },
      "execution_count": null,
      "outputs": []
    },
    {
      "cell_type": "markdown",
      "source": [
        "No Avião"
      ],
      "metadata": {
        "id": "L2ygmH3EjRI-"
      }
    },
    {
      "cell_type": "code",
      "source": [
        "print(myPlane.embarkPassengers(50))\n",
        "print(f'{myPlane.getNumPassengerOnboard()} passageitos abordo')\n",
        "print(f'{myPlane.getNumSeatsAvailable()}assentos disponíveis')"
      ],
      "metadata": {
        "colab": {
          "base_uri": "https://localhost:8080/",
          "height": 200
        },
        "id": "2PlADQK0jU7o",
        "outputId": "97105d4d-be40-460e-8fef-49faab5eb287"
      },
      "execution_count": null,
      "outputs": [
        {
          "output_type": "error",
          "ename": "AttributeError",
          "evalue": "ignored",
          "traceback": [
            "\u001b[0;31m---------------------------------------------------------------------------\u001b[0m",
            "\u001b[0;31mAttributeError\u001b[0m                            Traceback (most recent call last)",
            "\u001b[0;32m<ipython-input-43-b5ded7a0999c>\u001b[0m in \u001b[0;36m<module>\u001b[0;34m\u001b[0m\n\u001b[0;32m----> 1\u001b[0;31m \u001b[0mprint\u001b[0m\u001b[0;34m(\u001b[0m\u001b[0mmyPlane\u001b[0m\u001b[0;34m.\u001b[0m\u001b[0membarkPassengers\u001b[0m\u001b[0;34m(\u001b[0m\u001b[0;36m50\u001b[0m\u001b[0;34m)\u001b[0m\u001b[0;34m)\u001b[0m\u001b[0;34m\u001b[0m\u001b[0;34m\u001b[0m\u001b[0m\n\u001b[0m\u001b[1;32m      2\u001b[0m \u001b[0mprint\u001b[0m\u001b[0;34m(\u001b[0m\u001b[0;34mf'{myPlane.getNumPassengerOnboard()} passageitos abordo'\u001b[0m\u001b[0;34m)\u001b[0m\u001b[0;34m\u001b[0m\u001b[0;34m\u001b[0m\u001b[0m\n\u001b[1;32m      3\u001b[0m \u001b[0mprint\u001b[0m\u001b[0;34m(\u001b[0m\u001b[0;34mf'{myPlane.getNumSeatsAvailable()}assentos disponíveis'\u001b[0m\u001b[0;34m)\u001b[0m\u001b[0;34m\u001b[0m\u001b[0;34m\u001b[0m\u001b[0m\n",
            "\u001b[0;31mAttributeError\u001b[0m: 'Vehicle' object has no attribute 'embarkPassengers'"
          ]
        }
      ]
    },
    {
      "cell_type": "markdown",
      "source": [
        "No carro:"
      ],
      "metadata": {
        "id": "2a2mqZxMpfGF"
      }
    },
    {
      "cell_type": "code",
      "source": [
        "print(myCar.embarkPassengers(5))\n",
        "print(f'{myCar.getNumPassengerOnboard()} passageiros abordo')\n",
        "print(f'{myCar.getNumSeatsAvailable()') assentos disponíveis"
      ],
      "metadata": {
        "colab": {
          "base_uri": "https://localhost:8080/",
          "height": 130
        },
        "id": "qDyEGGaup2nV",
        "outputId": "b0109a8d-6d03-4fb2-9ead-825d700a145e"
      },
      "execution_count": null,
      "outputs": [
        {
          "output_type": "error",
          "ename": "SyntaxError",
          "evalue": "ignored",
          "traceback": [
            "\u001b[0;36m  File \u001b[0;32m\"<ipython-input-44-c08454b1d689>\"\u001b[0;36m, line \u001b[0;32m3\u001b[0m\n\u001b[0;31m    print(f'{myCar.getNumSeatsAvailable()') assentos disponíveis\u001b[0m\n\u001b[0m                                                   ^\u001b[0m\n\u001b[0;31mSyntaxError\u001b[0m\u001b[0;31m:\u001b[0m invalid syntax\n"
          ]
        }
      ]
    },
    {
      "cell_type": "markdown",
      "source": [
        "Herança"
      ],
      "metadata": {
        "id": "5zeW2Dmjqfu1"
      }
    },
    {
      "cell_type": "code",
      "source": [
        "class Airplane(Vehicle):\n",
        "  def __init__(self,model<manufacterer,airline,seat_capacity):\n",
        "    super().__init__(type='plane',model = model,manufacturer=manufacturer,seat_capacity= seat_capacity)\n",
        "    self.airline = airline\n",
        "\n",
        "  def takeoff(self):\n",
        "    print(f'O {self.getModel()} da {self.airline} está decolando com {self.getNumPassengerOnboard()} passageiros')\n",
        "\n",
        "class Car(Vehicle):\n",
        "  def __init__(self,model,manufacterer,seat_capacity):\n",
        "    super().__init__(type = 'Car',model = model,manufacturer = manufacturer,seat_capacity=seat_capacity)\n",
        "  \n",
        "  def embarkPassengers(self, n_passengers_to_embark,name_driver):\n",
        "    available_seats = self.getNumSeatsAvailable()\n",
        "    self.name_driver = name_driver\n",
        "    if available_seats >= n_passengers_to_embark:\n",
        "      return f'Mais {n_passengers_to_embark} passageiros embarcados com sucesso!'\n",
        "    else:\n",
        "      return f\"impossivel embarcar mais {n_passengers_to_embark} passageitos Apenas {available_seats} assentos disponiveis\"\n",
        "  \n",
        "  def drive(self):\n",
        "    if self.getNumPassengerOnboard()>0:\n",
        "      print(f\"o {self.getModel()}, conduzido por {self.name_driver},está na estrada com {self.getNumPassengerOnboard}\")\n",
        "    else:\n",
        "      print('Um carro nao pode operar sem motorista!')\n",
        "    "
      ],
      "metadata": {
        "id": "dPBRZjOqqhxe"
      },
      "execution_count": null,
      "outputs": []
    },
    {
      "cell_type": "code",
      "source": [
        "latemPlane = Airplane('A320','Airbus','Latam',180)\n",
        "\n",
        "print(latamPlane.embarkPassengers(130))\n",
        "latemPlane.takeoff()"
      ],
      "metadata": {
        "id": "LJBaAEwdtIN3"
      },
      "execution_count": null,
      "outputs": []
    },
    {
      "cell_type": "code",
      "source": [
        "azulPlane = AirPlane('A320','Embraer','Latam',180)\n",
        "azulPlane.takeoff()"
      ],
      "metadata": {
        "id": "sbuk4hI0w75M"
      },
      "execution_count": null,
      "outputs": []
    },
    {
      "cell_type": "code",
      "source": [
        "myCar = Car('Uno','Fiat',5)\n",
        "\n",
        "print(myCar.embarkPassengers(3,name_driver='Sergio'))\n",
        "myCar.drive()"
      ],
      "metadata": {
        "id": "7UI6c0sfyefO"
      },
      "execution_count": null,
      "outputs": []
    }
  ]
}