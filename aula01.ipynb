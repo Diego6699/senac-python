{
  "nbformat": 4,
  "nbformat_minor": 0,
  "metadata": {
    "colab": {
      "provenance": [],
      "collapsed_sections": [],
      "authorship_tag": "ABX9TyN7d+Ivc8+UIWAAt3EHVrlE",
      "include_colab_link": true
    },
    "kernelspec": {
      "name": "python3",
      "display_name": "Python 3"
    },
    "language_info": {
      "name": "python"
    }
  },
  "cells": [
    {
      "cell_type": "markdown",
      "metadata": {
        "id": "view-in-github",
        "colab_type": "text"
      },
      "source": [
        "<a href=\"https://colab.research.google.com/github/Diego6699/senac-python/blob/main/aula01.ipynb\" target=\"_parent\"><img src=\"https://colab.research.google.com/assets/colab-badge.svg\" alt=\"Open In Colab\"/></a>"
      ]
    },
    {
      "cell_type": "code",
      "execution_count": null,
      "metadata": {
        "id": "7tnEgWzKqbv9"
      },
      "outputs": [],
      "source": [
        "#usando print\n",
        "print('Ola mundo')"
      ]
    },
    {
      "cell_type": "markdown",
      "source": [
        "Variaveis"
      ],
      "metadata": {
        "id": "seiQqAGxq5uL"
      }
    },
    {
      "cell_type": "code",
      "source": [
        "nome = 'Diego Leonardo'\n",
        "idade = 21\n",
        "altura = 1.69\n",
        "desenvolvedor = True"
      ],
      "metadata": {
        "id": "rRbXJ1HCq7vj"
      },
      "execution_count": null,
      "outputs": []
    },
    {
      "cell_type": "markdown",
      "source": [
        "tipagem fracamento tipada"
      ],
      "metadata": {
        "id": "EBHVqghYrSnA"
      }
    },
    {
      "cell_type": "code",
      "source": [
        "print(type(nome))\n",
        "print(type(idade))\n",
        "print(type(altura))\n",
        "print(type(desenvolvedor))"
      ],
      "metadata": {
        "colab": {
          "base_uri": "https://localhost:8080/"
        },
        "id": "-bUAAuogrWQT",
        "outputId": "d9e6967f-c7e2-4d96-f454-2ba4690d5444"
      },
      "execution_count": null,
      "outputs": [
        {
          "output_type": "execute_result",
          "data": {
            "text/plain": [
              "str"
            ]
          },
          "metadata": {},
          "execution_count": 3
        }
      ]
    },
    {
      "cell_type": "markdown",
      "source": [
        "comentarios\n",
        "usando #\n",
        "ou\n",
        "usando \"\"\" comentario \"\"\""
      ],
      "metadata": {
        "id": "mmgHZrfOr5FE"
      }
    },
    {
      "cell_type": "code",
      "source": [
        "print('ola mundo') #comentario\n",
        "print('ola mundo') \n",
        "\"\"\"\n",
        "comentario de \n",
        "multiplas\n",
        "linhas\n",
        "\"\"\""
      ],
      "metadata": {
        "colab": {
          "base_uri": "https://localhost:8080/",
          "height": 70
        },
        "id": "FB0NCtbCsEfz",
        "outputId": "1583e96e-b29c-4652-c4f4-e46490baee0e"
      },
      "execution_count": null,
      "outputs": [
        {
          "output_type": "stream",
          "name": "stdout",
          "text": [
            "ola mundo\n",
            "ola mundo\n"
          ]
        },
        {
          "output_type": "execute_result",
          "data": {
            "text/plain": [
              "'\\ncomentario de \\nmultiplas\\nlinhas\\n'"
            ],
            "application/vnd.google.colaboratory.intrinsic+json": {
              "type": "string"
            }
          },
          "metadata": {},
          "execution_count": 6
        }
      ]
    },
    {
      "cell_type": "markdown",
      "source": [
        "Operacao com variaveis"
      ],
      "metadata": {
        "id": "iaPdMclisgjb"
      }
    },
    {
      "cell_type": "code",
      "source": [
        "a = 77\n",
        "b = 33\n",
        "c = b + a\n",
        "print(c)\n",
        "c = c - b\n",
        "print(c)\n",
        "c = c / b\n",
        "print(c)\n",
        "c = a // b\n",
        "print(c)\n",
        "c = c ** 2\n",
        "print(c)\n",
        "a = 66 % b\n",
        "print(c)"
      ],
      "metadata": {
        "colab": {
          "base_uri": "https://localhost:8080/"
        },
        "id": "_n1iqAzgsmAD",
        "outputId": "63e6a937-25cb-454d-8b84-86bc87a18595"
      },
      "execution_count": null,
      "outputs": [
        {
          "output_type": "stream",
          "name": "stdout",
          "text": [
            "110\n",
            "77\n",
            "2.3333333333333335\n",
            "2\n",
            "4\n",
            "4\n"
          ]
        }
      ]
    },
    {
      "cell_type": "markdown",
      "source": [
        "Concatenacao de Strings"
      ],
      "metadata": {
        "id": "hISc7aFwtV3k"
      }
    },
    {
      "cell_type": "code",
      "source": [
        "nome = 'Diego'\n",
        "sobrenome = \" Leonardo da Siva França\"\n",
        "print(nome + sobrenome)\n",
        "print('Ola',nome,'com sobrenome',sobrenome)\n",
        "#quebrand linhas\n",
        "print('nome:',nome,'\\nsobrenome:',sobrenome)"
      ],
      "metadata": {
        "colab": {
          "base_uri": "https://localhost:8080/"
        },
        "id": "C9YTReH1tYdo",
        "outputId": "61c06543-ade2-4af2-f3ee-c92a34b61b45"
      },
      "execution_count": null,
      "outputs": [
        {
          "output_type": "stream",
          "name": "stdout",
          "text": [
            "Diego Leonardo da Siva França\n",
            "Ola Diego com sobrenome  Leonardo da Siva França\n",
            "nome: Diego \n",
            "sobrenome:  Leonardo da Siva França\n"
          ]
        }
      ]
    },
    {
      "cell_type": "markdown",
      "source": [
        "Entrada de dados do teclado"
      ],
      "metadata": {
        "id": "Hfs7hO3fuDuc"
      }
    },
    {
      "cell_type": "code",
      "source": [
        "nome = str(input('Qual é o seu nome: '))"
      ],
      "metadata": {
        "colab": {
          "base_uri": "https://localhost:8080/"
        },
        "id": "EzxPxkvRuJQ_",
        "outputId": "34a53d96-22e3-4f29-ecac-00bfb88b95ae"
      },
      "execution_count": null,
      "outputs": [
        {
          "name": "stdout",
          "output_type": "stream",
          "text": [
            "Qual é o seu nome: Diego\n"
          ]
        }
      ]
    }
  ]
}